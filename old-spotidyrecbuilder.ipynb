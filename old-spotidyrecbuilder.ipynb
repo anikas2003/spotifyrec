{
 "cells": [
  {
   "cell_type": "code",
   "execution_count": 22,
   "metadata": {},
   "outputs": [],
   "source": [
    "import os\n",
    "import numpy as np\n",
    "import pandas as pd\n",
    "\n",
    "import seaborn as sns\n",
    "import plotly.express as px \n",
    "import matplotlib.pyplot as plt\n",
    "%matplotlib inline\n",
    "\n",
    "from sklearn.cluster import KMeans\n",
    "from sklearn.preprocessing import StandardScaler\n",
    "from sklearn.pipeline import Pipeline\n",
    "from sklearn.manifold import TSNE\n",
    "from sklearn.decomposition import PCA\n",
    "from sklearn.metrics import euclidean_distances\n",
    "from scipy.spatial.distance import cdist\n",
    "\n",
    "from yellowbrick.target import FeatureCorrelation\n",
    "import plotly.express as px\n",
    "\n",
    "from spotipy import Spotify\n",
    "from spotipy.oauth2 import SpotifyClientCredentials, SpotifyOAuth\n",
    "from dotenv import load_dotenv\n",
    "import os\n",
    "import requests\n",
    "import base64"
   ]
  },
  {
   "cell_type": "code",
   "execution_count": 24,
   "metadata": {},
   "outputs": [
    {
     "data": {
      "text/html": [
       "<div>\n",
       "<style scoped>\n",
       "    .dataframe tbody tr th:only-of-type {\n",
       "        vertical-align: middle;\n",
       "    }\n",
       "\n",
       "    .dataframe tbody tr th {\n",
       "        vertical-align: top;\n",
       "    }\n",
       "\n",
       "    .dataframe thead th {\n",
       "        text-align: right;\n",
       "    }\n",
       "</style>\n",
       "<table border=\"1\" class=\"dataframe\">\n",
       "  <thead>\n",
       "    <tr style=\"text-align: right;\">\n",
       "      <th></th>\n",
       "      <th>id</th>\n",
       "      <th>name</th>\n",
       "      <th>popularity</th>\n",
       "      <th>duration_ms</th>\n",
       "      <th>explicit</th>\n",
       "      <th>artists</th>\n",
       "      <th>id_artists</th>\n",
       "      <th>release_date</th>\n",
       "      <th>danceability</th>\n",
       "      <th>energy</th>\n",
       "      <th>key</th>\n",
       "      <th>loudness</th>\n",
       "      <th>mode</th>\n",
       "      <th>speechiness</th>\n",
       "      <th>acousticness</th>\n",
       "      <th>instrumentalness</th>\n",
       "      <th>liveness</th>\n",
       "      <th>valence</th>\n",
       "      <th>tempo</th>\n",
       "      <th>time_signature</th>\n",
       "    </tr>\n",
       "  </thead>\n",
       "  <tbody>\n",
       "    <tr>\n",
       "      <th>0</th>\n",
       "      <td>35iwgR4jXetI318WEWsa1Q</td>\n",
       "      <td>Carve</td>\n",
       "      <td>6</td>\n",
       "      <td>126903</td>\n",
       "      <td>0</td>\n",
       "      <td>['Uli']</td>\n",
       "      <td>['45tIt06XoI0Iio4LBEVpls']</td>\n",
       "      <td>1922-02-22</td>\n",
       "      <td>0.645</td>\n",
       "      <td>0.4450</td>\n",
       "      <td>0</td>\n",
       "      <td>-13.338</td>\n",
       "      <td>1</td>\n",
       "      <td>0.4510</td>\n",
       "      <td>0.674</td>\n",
       "      <td>0.7440</td>\n",
       "      <td>0.151</td>\n",
       "      <td>0.127</td>\n",
       "      <td>104.851</td>\n",
       "      <td>3</td>\n",
       "    </tr>\n",
       "    <tr>\n",
       "      <th>1</th>\n",
       "      <td>021ht4sdgPcrDgSk7JTbKY</td>\n",
       "      <td>Capítulo 2.16 - Banquero Anarquista</td>\n",
       "      <td>0</td>\n",
       "      <td>98200</td>\n",
       "      <td>0</td>\n",
       "      <td>['Fernando Pessoa']</td>\n",
       "      <td>['14jtPCOoNZwquk5wd9DxrY']</td>\n",
       "      <td>1922-06-01</td>\n",
       "      <td>0.695</td>\n",
       "      <td>0.2630</td>\n",
       "      <td>0</td>\n",
       "      <td>-22.136</td>\n",
       "      <td>1</td>\n",
       "      <td>0.9570</td>\n",
       "      <td>0.797</td>\n",
       "      <td>0.0000</td>\n",
       "      <td>0.148</td>\n",
       "      <td>0.655</td>\n",
       "      <td>102.009</td>\n",
       "      <td>1</td>\n",
       "    </tr>\n",
       "    <tr>\n",
       "      <th>2</th>\n",
       "      <td>07A5yehtSnoedViJAZkNnc</td>\n",
       "      <td>Vivo para Quererte - Remasterizado</td>\n",
       "      <td>0</td>\n",
       "      <td>181640</td>\n",
       "      <td>0</td>\n",
       "      <td>['Ignacio Corsini']</td>\n",
       "      <td>['5LiOoJbxVSAMkBS2fUm3X2']</td>\n",
       "      <td>1922-03-21</td>\n",
       "      <td>0.434</td>\n",
       "      <td>0.1770</td>\n",
       "      <td>1</td>\n",
       "      <td>-21.180</td>\n",
       "      <td>1</td>\n",
       "      <td>0.0512</td>\n",
       "      <td>0.994</td>\n",
       "      <td>0.0218</td>\n",
       "      <td>0.212</td>\n",
       "      <td>0.457</td>\n",
       "      <td>130.418</td>\n",
       "      <td>5</td>\n",
       "    </tr>\n",
       "    <tr>\n",
       "      <th>3</th>\n",
       "      <td>08FmqUhxtyLTn6pAh6bk45</td>\n",
       "      <td>El Prisionero - Remasterizado</td>\n",
       "      <td>0</td>\n",
       "      <td>176907</td>\n",
       "      <td>0</td>\n",
       "      <td>['Ignacio Corsini']</td>\n",
       "      <td>['5LiOoJbxVSAMkBS2fUm3X2']</td>\n",
       "      <td>1922-03-21</td>\n",
       "      <td>0.321</td>\n",
       "      <td>0.0946</td>\n",
       "      <td>7</td>\n",
       "      <td>-27.961</td>\n",
       "      <td>1</td>\n",
       "      <td>0.0504</td>\n",
       "      <td>0.995</td>\n",
       "      <td>0.9180</td>\n",
       "      <td>0.104</td>\n",
       "      <td>0.397</td>\n",
       "      <td>169.980</td>\n",
       "      <td>3</td>\n",
       "    </tr>\n",
       "    <tr>\n",
       "      <th>4</th>\n",
       "      <td>08y9GfoqCWfOGsKdwojr5e</td>\n",
       "      <td>Lady of the Evening</td>\n",
       "      <td>0</td>\n",
       "      <td>163080</td>\n",
       "      <td>0</td>\n",
       "      <td>['Dick Haymes']</td>\n",
       "      <td>['3BiJGZsyX9sJchTqcSA7Su']</td>\n",
       "      <td>1922</td>\n",
       "      <td>0.402</td>\n",
       "      <td>0.1580</td>\n",
       "      <td>3</td>\n",
       "      <td>-16.900</td>\n",
       "      <td>0</td>\n",
       "      <td>0.0390</td>\n",
       "      <td>0.989</td>\n",
       "      <td>0.1300</td>\n",
       "      <td>0.311</td>\n",
       "      <td>0.196</td>\n",
       "      <td>103.220</td>\n",
       "      <td>4</td>\n",
       "    </tr>\n",
       "  </tbody>\n",
       "</table>\n",
       "</div>"
      ],
      "text/plain": [
       "                       id                                 name  popularity  \\\n",
       "0  35iwgR4jXetI318WEWsa1Q                                Carve           6   \n",
       "1  021ht4sdgPcrDgSk7JTbKY  Capítulo 2.16 - Banquero Anarquista           0   \n",
       "2  07A5yehtSnoedViJAZkNnc   Vivo para Quererte - Remasterizado           0   \n",
       "3  08FmqUhxtyLTn6pAh6bk45        El Prisionero - Remasterizado           0   \n",
       "4  08y9GfoqCWfOGsKdwojr5e                  Lady of the Evening           0   \n",
       "\n",
       "   duration_ms  explicit              artists                  id_artists  \\\n",
       "0       126903         0              ['Uli']  ['45tIt06XoI0Iio4LBEVpls']   \n",
       "1        98200         0  ['Fernando Pessoa']  ['14jtPCOoNZwquk5wd9DxrY']   \n",
       "2       181640         0  ['Ignacio Corsini']  ['5LiOoJbxVSAMkBS2fUm3X2']   \n",
       "3       176907         0  ['Ignacio Corsini']  ['5LiOoJbxVSAMkBS2fUm3X2']   \n",
       "4       163080         0      ['Dick Haymes']  ['3BiJGZsyX9sJchTqcSA7Su']   \n",
       "\n",
       "  release_date  danceability  energy  key  loudness  mode  speechiness  \\\n",
       "0   1922-02-22         0.645  0.4450    0   -13.338     1       0.4510   \n",
       "1   1922-06-01         0.695  0.2630    0   -22.136     1       0.9570   \n",
       "2   1922-03-21         0.434  0.1770    1   -21.180     1       0.0512   \n",
       "3   1922-03-21         0.321  0.0946    7   -27.961     1       0.0504   \n",
       "4         1922         0.402  0.1580    3   -16.900     0       0.0390   \n",
       "\n",
       "   acousticness  instrumentalness  liveness  valence    tempo  time_signature  \n",
       "0         0.674            0.7440     0.151    0.127  104.851               3  \n",
       "1         0.797            0.0000     0.148    0.655  102.009               1  \n",
       "2         0.994            0.0218     0.212    0.457  130.418               5  \n",
       "3         0.995            0.9180     0.104    0.397  169.980               3  \n",
       "4         0.989            0.1300     0.311    0.196  103.220               4  "
      ]
     },
     "execution_count": 24,
     "metadata": {},
     "output_type": "execute_result"
    }
   ],
   "source": [
    "spotify_df = pd.read_csv('/Users/anikasethi/Desktop/train_dataset.csv')\n",
    "spotify_df.head()"
   ]
  },
  {
   "cell_type": "code",
   "execution_count": null,
   "metadata": {},
   "outputs": [
    {
     "data": {
      "text/html": [
       "<div>\n",
       "<style scoped>\n",
       "    .dataframe tbody tr th:only-of-type {\n",
       "        vertical-align: middle;\n",
       "    }\n",
       "\n",
       "    .dataframe tbody tr th {\n",
       "        vertical-align: top;\n",
       "    }\n",
       "\n",
       "    .dataframe thead th {\n",
       "        text-align: right;\n",
       "    }\n",
       "</style>\n",
       "<table border=\"1\" class=\"dataframe\">\n",
       "  <thead>\n",
       "    <tr style=\"text-align: right;\">\n",
       "      <th></th>\n",
       "      <th>id</th>\n",
       "      <th>name</th>\n",
       "      <th>popularity</th>\n",
       "      <th>duration_ms</th>\n",
       "      <th>explicit</th>\n",
       "      <th>artists</th>\n",
       "      <th>id_artists</th>\n",
       "      <th>release_date</th>\n",
       "      <th>danceability</th>\n",
       "      <th>energy</th>\n",
       "      <th>...</th>\n",
       "      <th>loudness</th>\n",
       "      <th>mode</th>\n",
       "      <th>speechiness</th>\n",
       "      <th>acousticness</th>\n",
       "      <th>instrumentalness</th>\n",
       "      <th>liveness</th>\n",
       "      <th>valence</th>\n",
       "      <th>tempo</th>\n",
       "      <th>time_signature</th>\n",
       "      <th>release_year</th>\n",
       "    </tr>\n",
       "  </thead>\n",
       "  <tbody>\n",
       "    <tr>\n",
       "      <th>0</th>\n",
       "      <td>35iwgR4jXetI318WEWsa1Q</td>\n",
       "      <td>Carve</td>\n",
       "      <td>-1.174160</td>\n",
       "      <td>126903</td>\n",
       "      <td>0</td>\n",
       "      <td>['Uli']</td>\n",
       "      <td>['45tIt06XoI0Iio4LBEVpls']</td>\n",
       "      <td>1922-02-22</td>\n",
       "      <td>0.490096</td>\n",
       "      <td>-0.385182</td>\n",
       "      <td>...</td>\n",
       "      <td>-13.338</td>\n",
       "      <td>1</td>\n",
       "      <td>0.4510</td>\n",
       "      <td>0.642528</td>\n",
       "      <td>2.362779</td>\n",
       "      <td>-0.341434</td>\n",
       "      <td>-1.650527</td>\n",
       "      <td>-0.457392</td>\n",
       "      <td>-1.845842</td>\n",
       "      <td>1922</td>\n",
       "    </tr>\n",
       "    <tr>\n",
       "      <th>1</th>\n",
       "      <td>021ht4sdgPcrDgSk7JTbKY</td>\n",
       "      <td>Capítulo 2.16 - Banquero Anarquista</td>\n",
       "      <td>-1.500768</td>\n",
       "      <td>98200</td>\n",
       "      <td>0</td>\n",
       "      <td>['Fernando Pessoa']</td>\n",
       "      <td>['14jtPCOoNZwquk5wd9DxrY']</td>\n",
       "      <td>1922-06-01</td>\n",
       "      <td>0.791115</td>\n",
       "      <td>-1.107625</td>\n",
       "      <td>...</td>\n",
       "      <td>-22.136</td>\n",
       "      <td>1</td>\n",
       "      <td>0.9570</td>\n",
       "      <td>0.995129</td>\n",
       "      <td>-0.425120</td>\n",
       "      <td>-0.357710</td>\n",
       "      <td>0.398600</td>\n",
       "      <td>-0.552876</td>\n",
       "      <td>-6.072724</td>\n",
       "      <td>1922</td>\n",
       "    </tr>\n",
       "    <tr>\n",
       "      <th>2</th>\n",
       "      <td>07A5yehtSnoedViJAZkNnc</td>\n",
       "      <td>Vivo para Quererte - Remasterizado</td>\n",
       "      <td>-1.500768</td>\n",
       "      <td>181640</td>\n",
       "      <td>0</td>\n",
       "      <td>['Ignacio Corsini']</td>\n",
       "      <td>['5LiOoJbxVSAMkBS2fUm3X2']</td>\n",
       "      <td>1922-03-21</td>\n",
       "      <td>-0.780204</td>\n",
       "      <td>-1.449000</td>\n",
       "      <td>...</td>\n",
       "      <td>-21.180</td>\n",
       "      <td>1</td>\n",
       "      <td>0.0512</td>\n",
       "      <td>1.559864</td>\n",
       "      <td>-0.343432</td>\n",
       "      <td>-0.010498</td>\n",
       "      <td>-0.369823</td>\n",
       "      <td>0.401596</td>\n",
       "      <td>2.381040</td>\n",
       "      <td>1922</td>\n",
       "    </tr>\n",
       "    <tr>\n",
       "      <th>3</th>\n",
       "      <td>08FmqUhxtyLTn6pAh6bk45</td>\n",
       "      <td>El Prisionero - Remasterizado</td>\n",
       "      <td>-1.500768</td>\n",
       "      <td>176907</td>\n",
       "      <td>0</td>\n",
       "      <td>['Ignacio Corsini']</td>\n",
       "      <td>['5LiOoJbxVSAMkBS2fUm3X2']</td>\n",
       "      <td>1922-03-21</td>\n",
       "      <td>-1.460507</td>\n",
       "      <td>-1.776084</td>\n",
       "      <td>...</td>\n",
       "      <td>-27.961</td>\n",
       "      <td>1</td>\n",
       "      <td>0.0504</td>\n",
       "      <td>1.562730</td>\n",
       "      <td>3.014787</td>\n",
       "      <td>-0.596418</td>\n",
       "      <td>-0.602678</td>\n",
       "      <td>1.730782</td>\n",
       "      <td>-1.845842</td>\n",
       "      <td>1922</td>\n",
       "    </tr>\n",
       "    <tr>\n",
       "      <th>4</th>\n",
       "      <td>08y9GfoqCWfOGsKdwojr5e</td>\n",
       "      <td>Lady of the Evening</td>\n",
       "      <td>-1.500768</td>\n",
       "      <td>163080</td>\n",
       "      <td>0</td>\n",
       "      <td>['Dick Haymes']</td>\n",
       "      <td>['3BiJGZsyX9sJchTqcSA7Su']</td>\n",
       "      <td>1922</td>\n",
       "      <td>-0.972856</td>\n",
       "      <td>-1.524420</td>\n",
       "      <td>...</td>\n",
       "      <td>-16.900</td>\n",
       "      <td>0</td>\n",
       "      <td>0.0390</td>\n",
       "      <td>1.545530</td>\n",
       "      <td>0.062013</td>\n",
       "      <td>0.526596</td>\n",
       "      <td>-1.382743</td>\n",
       "      <td>-0.512190</td>\n",
       "      <td>0.267599</td>\n",
       "      <td>1922</td>\n",
       "    </tr>\n",
       "  </tbody>\n",
       "</table>\n",
       "<p>5 rows × 21 columns</p>\n",
       "</div>"
      ],
      "text/plain": [
       "                       id                                 name  popularity  \\\n",
       "0  35iwgR4jXetI318WEWsa1Q                                Carve   -1.174160   \n",
       "1  021ht4sdgPcrDgSk7JTbKY  Capítulo 2.16 - Banquero Anarquista   -1.500768   \n",
       "2  07A5yehtSnoedViJAZkNnc   Vivo para Quererte - Remasterizado   -1.500768   \n",
       "3  08FmqUhxtyLTn6pAh6bk45        El Prisionero - Remasterizado   -1.500768   \n",
       "4  08y9GfoqCWfOGsKdwojr5e                  Lady of the Evening   -1.500768   \n",
       "\n",
       "   duration_ms  explicit              artists                  id_artists  \\\n",
       "0       126903         0              ['Uli']  ['45tIt06XoI0Iio4LBEVpls']   \n",
       "1        98200         0  ['Fernando Pessoa']  ['14jtPCOoNZwquk5wd9DxrY']   \n",
       "2       181640         0  ['Ignacio Corsini']  ['5LiOoJbxVSAMkBS2fUm3X2']   \n",
       "3       176907         0  ['Ignacio Corsini']  ['5LiOoJbxVSAMkBS2fUm3X2']   \n",
       "4       163080         0      ['Dick Haymes']  ['3BiJGZsyX9sJchTqcSA7Su']   \n",
       "\n",
       "  release_date  danceability    energy  ...  loudness  mode  speechiness  \\\n",
       "0   1922-02-22      0.490096 -0.385182  ...   -13.338     1       0.4510   \n",
       "1   1922-06-01      0.791115 -1.107625  ...   -22.136     1       0.9570   \n",
       "2   1922-03-21     -0.780204 -1.449000  ...   -21.180     1       0.0512   \n",
       "3   1922-03-21     -1.460507 -1.776084  ...   -27.961     1       0.0504   \n",
       "4         1922     -0.972856 -1.524420  ...   -16.900     0       0.0390   \n",
       "\n",
       "   acousticness  instrumentalness  liveness   valence     tempo  \\\n",
       "0      0.642528          2.362779 -0.341434 -1.650527 -0.457392   \n",
       "1      0.995129         -0.425120 -0.357710  0.398600 -0.552876   \n",
       "2      1.559864         -0.343432 -0.010498 -0.369823  0.401596   \n",
       "3      1.562730          3.014787 -0.596418 -0.602678  1.730782   \n",
       "4      1.545530          0.062013  0.526596 -1.382743 -0.512190   \n",
       "\n",
       "   time_signature  release_year  \n",
       "0       -1.845842          1922  \n",
       "1       -6.072724          1922  \n",
       "2        2.381040          1922  \n",
       "3       -1.845842          1922  \n",
       "4        0.267599          1922  \n",
       "\n",
       "[5 rows x 21 columns]"
      ]
     },
     "execution_count": 25,
     "metadata": {},
     "output_type": "execute_result"
    }
   ],
   "source": [
    "# change release_date to just the year\n",
    "spotify_df['release_year'] = spotify_df['release_date'].apply(lambda x: int(str(x)[:4]))\n",
    "\n",
    "# normalize and make a new normalized df\n",
    "features = ['popularity', 'danceability', 'energy', 'tempo', 'valence', \n",
    "            'acousticness', 'liveness', 'instrumentalness', 'time_signature', 'key']\n",
    "\n",
    "X = spotify_df[features]\n",
    "scaler = StandardScaler()\n",
    "X_scaled = scaler.fit_transform(X)\n",
    "\n",
    "spotify_normalized_df = spotify_df.copy()\n",
    "spotify_normalized_df[features] = X_scaled\n",
    "spotify_normalized_df.head()\n"
   ]
  },
  {
   "cell_type": "code",
   "execution_count": 19,
   "metadata": {},
   "outputs": [
    {
     "data": {
      "text/plain": [
       "Index(['id', 'name', 'popularity', 'duration_ms', 'explicit', 'artists',\n",
       "       'id_artists', 'release_date', 'danceability', 'energy', 'key',\n",
       "       'loudness', 'mode', 'speechiness', 'acousticness', 'instrumentalness',\n",
       "       'liveness', 'valence', 'tempo', 'time_signature', 'release_year',\n",
       "       'decade', 'cluster', 'pca_1', 'pca_2'],\n",
       "      dtype='object')"
      ]
     },
     "execution_count": 19,
     "metadata": {},
     "output_type": "execute_result"
    }
   ],
   "source": [
    "spotify_normalized_df.columns"
   ]
  },
  {
   "cell_type": "code",
   "execution_count": null,
   "metadata": {},
   "outputs": [
    {
     "data": {
      "image/png": "[encoded data removed]",
      "text/plain": [
       "<Figure size 2000x2000 with 1 Axes>"
      ]
     },
     "metadata": {},
     "output_type": "display_data"
    },
    {
     "data": {
      "text/plain": [
       "<Axes: title={'center': 'Features correlation with dependent variable'}, xlabel='Pearson Correlation'>"
      ]
     },
     "execution_count": 26,
     "metadata": {},
     "output_type": "execute_result"
    }
   ],
   "source": [
    "# visualizing dataset, seeing patterns in it: GRAPH #1\n",
    "feature_names = ['acousticness', 'danceability', 'energy', 'instrumentalness', 'liveness', 'loudness', 'speechiness', 'tempo', 'valence','duration_ms','explicit','key','mode', 'release_year']\n",
    "\n",
    "X, y = spotify_df[feature_names], spotify_df['popularity']\n",
    "\n",
    "# Create a list of the feature names\n",
    "features = np.array(feature_names)\n",
    "\n",
    "# Instantiate the visualizer\n",
    "visualizer = FeatureCorrelation(labels=features)\n",
    "\n",
    "plt.rcParams['figure.figsize']=(20,20)\n",
    "visualizer.fit(X, y)     # Fit the data to the visualizer\n",
    "visualizer.show()"
   ]
  },
  {
   "cell_type": "code",
   "execution_count": null,
   "metadata": {},
   "outputs": [
    {
     "data": {
      "text/plain": [
       "<Axes: xlabel='decade', ylabel='count'>"
      ]
     },
     "execution_count": 27,
     "metadata": {},
     "output_type": "execute_result"
    },
    {
     "data": {
      "image/png": "[encoded data removed]",
      "text/plain": [
       "<Figure size 1100x600 with 1 Axes>"
      ]
     },
     "metadata": {},
     "output_type": "display_data"
    }
   ],
   "source": [
    "# visualizing dataset, seeing patterns in it: GRAPH #2\n",
    "def get_decade(year):\n",
    "    period_start = int(year / 10) * 10\n",
    "    decade = '{}s'.format(period_start)\n",
    "    return decade\n",
    "\n",
    "spotify_normalized_df['decade'] = spotify_normalized_df['release_year'].apply(get_decade)\n",
    "sorted_decades = sorted(spotify_normalized_df['decade'].unique())\n",
    "spotify_normalized_df['decade'] = pd.Categorical(spotify_normalized_df['decade'], categories=sorted_decades, ordered=True)\n",
    "\n",
    "sns.set_theme(rc={'figure.figsize': (11, 6)})\n",
    "sns.countplot(data=spotify_normalized_df, x='decade', order=sorted_decades)"
   ]
  },
  {
   "cell_type": "code",
   "execution_count": null,
   "metadata": {},
   "outputs": [
    {
     "data": {
      "application/vnd.plotly.v1+json": {
       "config": {
        "plotlyServerURL": "https://plot.ly"
       },
       "data": [
        {
         "hovertemplate": "variable=acousticness<br>Year=%{x}<br>Feature Value=%{y}<extra></extra>",
         "legendgroup": "acousticness",
         "line": {
          "color": "#636efa",
          "dash": "solid"
         },
         "marker": {
          "symbol": "circle"
         },
         "mode": "lines",
         "name": "acousticness",
         "orientation": "v",
         "showlegend": true,
         "type": "scatter",
         "x": [
          1900,
          1922,
          1923,
          1924,
          1925,
          1926,
          1927,
          1928,
          1929,
          1930,
          1931,
          1932,
          1933,
          1934,
          1935,
          1936,
          1937,
          1938,
          1939,
          1940,
          1941,
          1942,
          1943,
          1944,
          1945,
          1946,
          1947,
          1948,
          1949,
          1950,
          1951,
          1952,
          1953,
          1954,
          1955,
          1956,
          1957,
          1958,
          1959,
          1960,
          1961,
          1962,
          1963,
          1964,
          1965,
          1966,
          1967,
          1968,
          1969,
          1970,
          1971,
          1972,
          1973,
          1974,
          1975,
          1976,
          1977,
          1978,
          1979,
          1980,
          1981,
          1982,
          1983,
          1984,
          1985,
          1986,
          1987,
          1988,
          1989,
          1990,
          1991,
          1992,
          1993,
          1994,
          1995,
          1996,
          1997,
          1998,
          1999,
          2000,
          2001,
          2002,
          2003,
          2004,
          2005,
          2006,
          2007,
          2008,
          2009,
          2010,
          2011,
          2012,
          2013,
          2014,
          2015,
          2016,
          2017,
          2018,
          2019,
          2020,
          2021
         ],
         "xaxis": "x",
         "y": [
          -0.8911418703987746,
          1.287120308590877,
          1.1756287805381136,
          1.19369119417048,
          1.3252827777747176,
          0.9628469764186983,
          1.3083212533613358,
          1.4052788784991577,
          1.4464010709942958,
          1.3621000015397522,
          1.2091737204297042,
          1.0661917630148865,
          1.2916845492880145,
          1.3024064497174586,
          1.2447534444697206,
          0.6169050925148062,
          1.3062284466093872,
          1.3823794958833397,
          1.354891293642973,
          1.3540062651789642,
          1.3399934571491516,
          1.2487575425201602,
          1.3475585111523765,
          1.3752272508330552,
          1.3118596147175057,
          1.3656739066792258,
          1.3280283128015464,
          1.4045102230714182,
          1.262397033221838,
          1.1075278431380455,
          1.198970996995024,
          1.251629694435592,
          1.23743066647329,
          1.1987080135247505,
          1.1882110167036046,
          1.0811603622126436,
          1.047348599069499,
          1.0142589708359648,
          1.0062193630603615,
          0.8731572863553129,
          0.9526875157750732,
          0.8789586444959253,
          0.882922934791067,
          0.8150157060845706,
          0.6592362774340201,
          0.5088872126432558,
          0.4248700022505357,
          0.35988092077723166,
          0.2987114593085839,
          0.2624116118696214,
          0.25530729055423346,
          0.30005512808211104,
          0.17993693711861777,
          0.20831906164938344,
          0.15736916252290936,
          0.09838763979311334,
          0.08864405757384757,
          0.012155060071584867,
          -0.0558214232376437,
          -0.06218900962110305,
          -0.10332123492366158,
          -0.08525926843181064,
          -0.0720186151881661,
          -0.12046933106027552,
          -0.1514724637551105,
          -0.10402144179856636,
          -0.21184951115172532,
          -0.1472240808942794,
          -0.16062653732729107,
          -0.1657584356182734,
          -0.15317232654488164,
          -0.19272388994979125,
          -0.1985615102537935,
          -0.2152781177732308,
          -0.24181487232043006,
          -0.25164398886597406,
          -0.266555825801638,
          -0.3085336269922473,
          -0.3325980957345204,
          -0.37175274509792033,
          -0.3803544919957701,
          -0.3363489267716415,
          -0.3776664436429392,
          -0.4227433524044192,
          -0.40992190324354794,
          -0.41214192838738084,
          -0.40021258036422086,
          -0.3968346295304361,
          -0.40709662079641523,
          -0.41464463653539746,
          -0.41804748054794894,
          -0.49124263022964393,
          -0.5071865080653218,
          -0.46729883762960694,
          -0.42873376531599067,
          -0.4850239026830571,
          -0.49110702922869376,
          -0.49139461449377775,
          -0.44708982153639726,
          -0.5105921311765762,
          -0.49082510499661586
         ],
         "yaxis": "y"
        },
        {
         "hovertemplate": "variable=danceability<br>Year=%{x}<br>Feature Value=%{y}<extra></extra>",
         "legendgroup": "danceability",
         "line": {
          "color": "#EF553B",
          "dash": "solid"
         },
         "marker": {
          "symbol": "circle"
         },
         "mode": "lines",
         "name": "danceability",
         "orientation": "v",
         "showlegend": true,
         "type": "scatter",
         "x": [
          1900,
          1922,
          1923,
          1924,
          1925,
          1926,
          1927,
          1928,
          1929,
          1930,
          1931,
          1932,
          1933,
          1934,
          1935,
          1936,
          1937,
          1938,
          1939,
          1940,
          1941,
          1942,
          1943,
          1944,
          1945,
          1946,
          1947,
          1948,
          1949,
          1950,
          1951,
          1952,
          1953,
          1954,
          1955,
          1956,
          1957,
          1958,
          1959,
          1960,
          1961,
          1962,
          1963,
          1964,
          1965,
          1966,
          1967,
          1968,
          1969,
          1970,
          1971,
          1972,
          1973,
          1974,
          1975,
          1976,
          1977,
          1978,
          1979,
          1980,
          1981,
          1982,
          1983,
          1984,
          1985,
          1986,
          1987,
          1988,
          1989,
          1990,
          1991,
          1992,
          1993,
          1994,
          1995,
          1996,
          1997,
          1998,
          1999,
          2000,
          2001,
          2002,
          2003,
          2004,
          2005,
          2006,
          2007,
          2008,
          2009,
          2010,
          2011,
          2012,
          2013,
          2014,
          2015,
          2016,
          2017,
          2018,
          2019,
          2020,
          2021
         ],
         "xaxis": "x",
         "y": [
          0.5743813288632216,
          -0.1822614819129107,
          0.44393063079382195,
          0.17910971535272713,
          0.32387891226625976,
          0.35230943542115106,
          0.5244784112987865,
          -0.1285459915439498,
          0.23870352207080678,
          -0.2014137941897688,
          -0.10812457076944955,
          0.14586178183039764,
          0.056619151966190086,
          -0.12115836017387696,
          -0.22608896954862753,
          0.3098749175660141,
          -0.08988283783522238,
          -0.3490085087865353,
          -0.19517030723754192,
          -0.3486638879153448,
          -0.3987845678793689,
          -0.5803321071994296,
          -0.4571332117142688,
          -0.2779777295392025,
          -0.5288303331348625,
          -0.7221459862196838,
          -0.46793294903708627,
          -0.7134461255882233,
          -0.6230167563119421,
          -0.3095737351797695,
          -0.5009255793407378,
          -0.6421051179993745,
          -0.6708587909135739,
          -0.600976193423057,
          -0.464812610776619,
          -0.39030957849472503,
          -0.39632464780832993,
          -0.46658519936026227,
          -0.5034588975679642,
          -0.3924346520348968,
          -0.4258179870793139,
          -0.4461928532533453,
          -0.42975324135102,
          -0.39011146766684845,
          -0.3955436778181531,
          -0.35976987237234,
          -0.34834007321259,
          -0.35949428396164246,
          -0.4432940367655924,
          -0.3815972793238111,
          -0.3759475100854406,
          -0.2998719831674383,
          -0.285883762225048,
          -0.2916127611130485,
          -0.2542478836736095,
          -0.2419967231996863,
          -0.173104974856443,
          -0.1667897383898897,
          0.002045296974098155,
          -0.027562208124772312,
          -0.02799779085167722,
          0.06266160223969681,
          0.01688296952309519,
          0.07395524619637349,
          0.012341428491938502,
          0.015244745332265669,
          -0.023001945908104546,
          -0.08958641545683833,
          -0.013126363492196494,
          -0.03612157790527405,
          -0.004805809745967344,
          0.005438537305403874,
          0.07186815879867589,
          0.028390975975497775,
          0.028299080072298335,
          0.07326230598303521,
          0.08447720715875698,
          0.11276532177024966,
          0.11676572172015544,
          0.1588585794918673,
          0.15290747547759131,
          0.1527243642155756,
          0.17166875001508453,
          0.13403857006639416,
          0.16113186177657735,
          0.16614827414956118,
          0.16265299627870647,
          0.1575656837180127,
          0.18277745170176948,
          0.20760521516832656,
          0.14839757545170984,
          0.17085952705452678,
          0.16511141197409654,
          0.2124836524574967,
          0.19384753296628712,
          0.24410557946578296,
          0.36952097949626705,
          0.4269407394646165,
          0.5185369206179228,
          0.563120063320754,
          0.6498197102023939
         ],
         "yaxis": "y"
        },
        {
         "hovertemplate": "variable=energy<br>Year=%{x}<br>Feature Value=%{y}<extra></extra>",
         "legendgroup": "energy",
         "line": {
          "color": "#00cc96",
          "dash": "solid"
         },
         "marker": {
          "symbol": "circle"
         },
         "mode": "lines",
         "name": "energy",
         "orientation": "v",
         "showlegend": true,
         "type": "scatter",
         "x": [
          1900,
          1922,
          1923,
          1924,
          1925,
          1926,
          1927,
          1928,
          1929,
          1930,
          1931,
          1932,
          1933,
          1934,
          1935,
          1936,
          1937,
          1938,
          1939,
          1940,
          1941,
          1942,
          1943,
          1944,
          1945,
          1946,
          1947,
          1948,
          1949,
          1950,
          1951,
          1952,
          1953,
          1954,
          1955,
          1956,
          1957,
          1958,
          1959,
          1960,
          1961,
          1962,
          1963,
          1964,
          1965,
          1966,
          1967,
          1968,
          1969,
          1970,
          1971,
          1972,
          1973,
          1974,
          1975,
          1976,
          1977,
          1978,
          1979,
          1980,
          1981,
          1982,
          1983,
          1984,
          1985,
          1986,
          1987,
          1988,
          1989,
          1990,
          1991,
          1992,
          1993,
          1994,
          1995,
          1996,
          1997,
          1998,
          1999,
          2000,
          2001,
          2002,
          2003,
          2004,
          2005,
          2006,
          2007,
          2008,
          2009,
          2010,
          2011,
          2012,
          2013,
          2014,
          2015,
          2016,
          2017,
          2018,
          2019,
          2020,
          2021
         ],
         "xaxis": "x",
         "y": [
          0.9882554537609011,
          -0.865273044576584,
          -1.0918398817667425,
          -0.7355867976072759,
          -1.104651520249312,
          -1.1073271275384506,
          -1.0383045991758806,
          -1.1812135527351335,
          -0.8852651402706564,
          -0.8348560212882814,
          -1.0292298611507995,
          -0.9647414023344826,
          -0.8517628035522399,
          -0.8907118078420858,
          -1.0674217496484883,
          -0.9901566671853962,
          -0.8542164134074186,
          -0.964907771374514,
          -0.9165243229457471,
          -0.8148547463016871,
          -1.0747677803615336,
          -1.142839136356548,
          -1.0488021524376352,
          -1.124258296536704,
          -1.123778444093252,
          -1.1978729624855904,
          -1.0574839008362158,
          -1.176024071157837,
          -1.0891273027557538,
          -0.963588754428069,
          -1.0119068895733443,
          -1.0869711150783143,
          -1.0781313807682424,
          -1.093188872897996,
          -0.9897892643343255,
          -0.888914776083364,
          -0.929416714307501,
          -0.9035741403518855,
          -0.8331557113611844,
          -0.757776952868002,
          -0.7752783268358825,
          -0.6923323299918548,
          -0.6886947060382467,
          -0.5926078792251023,
          -0.4330835120555175,
          -0.4193798070112914,
          -0.4009147522804572,
          -0.3457247636718147,
          -0.3408506582794576,
          -0.2904150030307545,
          -0.2564307234034986,
          -0.25739213846852077,
          -0.145707622161545,
          -0.1942212070240476,
          -0.19043098134367178,
          -0.12261552670756497,
          -0.14082356162197185,
          -0.05701748846680431,
          0.017138132835761495,
          -0.030243037788917276,
          0.011578005185487029,
          -0.0008397185960234709,
          -0.06120759090584959,
          0.049448675718792516,
          0.06596208695003607,
          0.04535804407373125,
          0.09010827631795329,
          0.05182896127580027,
          0.07059305863558026,
          0.05411631233540612,
          -0.0064163633485195,
          0.0386628078065842,
          0.039066271350724865,
          0.0489078969386772,
          0.09804796815615417,
          0.12073832941895135,
          0.20292016463846554,
          0.2643216920280337,
          0.31281594001917656,
          0.35593174133897826,
          0.39392454212506745,
          0.3452383639885735,
          0.38331875132825277,
          0.4465250740919771,
          0.4246379645216252,
          0.46112812062025177,
          0.4612851056200162,
          0.471346873242792,
          0.4828013675914593,
          0.43647306177429607,
          0.46198101196272595,
          0.5291678211322239,
          0.5383667351413631,
          0.5070497889696842,
          0.41299429567059964,
          0.466020067789805,
          0.46718302903383657,
          0.4373008985254084,
          0.3772170068271877,
          0.3875505129301176,
          0.30152930170537706
         ],
         "yaxis": "y"
        },
        {
         "hovertemplate": "variable=instrumentalness<br>Year=%{x}<br>Feature Value=%{y}<extra></extra>",
         "legendgroup": "instrumentalness",
         "line": {
          "color": "#ab63fa",
          "dash": "solid"
         },
         "marker": {
          "symbol": "circle"
         },
         "mode": "lines",
         "name": "instrumentalness",
         "orientation": "v",
         "showlegend": true,
         "type": "scatter",
         "x": [
          1900,
          1922,
          1923,
          1924,
          1925,
          1926,
          1927,
          1928,
          1929,
          1930,
          1931,
          1932,
          1933,
          1934,
          1935,
          1936,
          1937,
          1938,
          1939,
          1940,
          1941,
          1942,
          1943,
          1944,
          1945,
          1946,
          1947,
          1948,
          1949,
          1950,
          1951,
          1952,
          1953,
          1954,
          1955,
          1956,
          1957,
          1958,
          1959,
          1960,
          1961,
          1962,
          1963,
          1964,
          1965,
          1966,
          1967,
          1968,
          1969,
          1970,
          1971,
          1972,
          1973,
          1974,
          1975,
          1976,
          1977,
          1978,
          1979,
          1980,
          1981,
          1982,
          1983,
          1984,
          1985,
          1986,
          1987,
          1988,
          1989,
          1990,
          1991,
          1992,
          1993,
          1994,
          1995,
          1996,
          1997,
          1998,
          1999,
          2000,
          2001,
          2002,
          2003,
          2004,
          2005,
          2006,
          2007,
          2008,
          2009,
          2010,
          2011,
          2012,
          2013,
          2014,
          2015,
          2016,
          2017,
          2018,
          2019,
          2020,
          2021
         ],
         "xaxis": "x",
         "y": [
          -0.4251139287475533,
          0.7926036397053009,
          0.16565517692996834,
          0.8475241063730006,
          0.6067921547909205,
          0.7867772808993917,
          0.5884079043764517,
          1.2736375173130747,
          0.9398373752857495,
          0.8036458120800453,
          0.7088415403737818,
          0.14645479679613518,
          0.44332764667229657,
          0.6135352915331665,
          0.6131793855618995,
          0.12343919647615188,
          0.8742789640089361,
          0.9862099654745199,
          0.7207237794148161,
          0.941930347118458,
          1.07738556420371,
          1.0888327204270323,
          1.1855723779857685,
          1.2606893651790478,
          0.963402304268219,
          1.350411334321755,
          0.7795018846734791,
          0.9226320340374037,
          0.6315799823635417,
          0.4262985546767657,
          0.6656740849006385,
          0.6557497333223952,
          0.8234582029048017,
          0.647350931550754,
          0.44919756537312194,
          0.3681971277293302,
          0.3983832610846194,
          0.33973925271264505,
          0.311323146357252,
          0.2730433618464702,
          0.4697136254972271,
          0.25865374145691195,
          0.34627565074059885,
          0.18926508235614822,
          0.1576401301480059,
          -0.016501532570892062,
          0.0016312830032600755,
          -0.003846427481596582,
          0.027727179257566258,
          -0.0016654629193185101,
          0.013432262598635798,
          -0.02123109884115194,
          -0.04716703168128626,
          -0.011877273962318025,
          -0.07501126238062396,
          -0.02242542260789607,
          -0.06611544154520038,
          -0.11158400782995401,
          -0.09802285091400557,
          -0.1005265495437983,
          -0.08598963335958659,
          -0.15897230306549692,
          -0.06832059949837495,
          -0.13154262303411274,
          -0.1661017249018573,
          -0.1447524188257538,
          -0.11957649235327365,
          -0.098561390489195,
          -0.1289526672764671,
          -0.13853254581041421,
          -0.10960082598967179,
          -0.14372179303730606,
          -0.17353586725761896,
          -0.1455416413451206,
          -0.1425082597380354,
          -0.14005125457828208,
          -0.1663772300896051,
          -0.1630857758916703,
          -0.17526539379256736,
          -0.20376593426763073,
          -0.20690349984646023,
          -0.21792829560230956,
          -0.24104417760650934,
          -0.1969613306710483,
          -0.19939975236946755,
          -0.23746739396102645,
          -0.22902980106966614,
          -0.21411683371026916,
          -0.20540286240296723,
          -0.21111539788249534,
          -0.14404896366951286,
          -0.09331015790628765,
          0.0016626191168975888,
          -0.0695463971967296,
          -0.04386205483540733,
          -0.10066990170108482,
          -0.09076758764826001,
          -0.05640513270323132,
          -0.11999491950478743,
          -0.001355755975182357,
          0.022333402434418226
         ],
         "yaxis": "y"
        },
        {
         "hovertemplate": "variable=liveness<br>Year=%{x}<br>Feature Value=%{y}<extra></extra>",
         "legendgroup": "liveness",
         "line": {
          "color": "#FFA15A",
          "dash": "solid"
         },
         "marker": {
          "symbol": "circle"
         },
         "mode": "lines",
         "name": "liveness",
         "orientation": "v",
         "showlegend": true,
         "type": "scatter",
         "x": [
          1900,
          1922,
          1923,
          1924,
          1925,
          1926,
          1927,
          1928,
          1929,
          1930,
          1931,
          1932,
          1933,
          1934,
          1935,
          1936,
          1937,
          1938,
          1939,
          1940,
          1941,
          1942,
          1943,
          1944,
          1945,
          1946,
          1947,
          1948,
          1949,
          1950,
          1951,
          1952,
          1953,
          1954,
          1955,
          1956,
          1957,
          1958,
          1959,
          1960,
          1961,
          1962,
          1963,
          1964,
          1965,
          1966,
          1967,
          1968,
          1969,
          1970,
          1971,
          1972,
          1973,
          1974,
          1975,
          1976,
          1977,
          1978,
          1979,
          1980,
          1981,
          1982,
          1983,
          1984,
          1985,
          1986,
          1987,
          1988,
          1989,
          1990,
          1991,
          1992,
          1993,
          1994,
          1995,
          1996,
          1997,
          1998,
          1999,
          2000,
          2001,
          2002,
          2003,
          2004,
          2005,
          2006,
          2007,
          2008,
          2009,
          2010,
          2011,
          2012,
          2013,
          2014,
          2015,
          2016,
          2017,
          2018,
          2019,
          2020,
          2021
         ],
         "xaxis": "x",
         "y": [
          -0.2871823692711616,
          0.19929636994834413,
          0.062179034459069554,
          -0.05690160479286012,
          0.22363654341880493,
          -0.013498670928295486,
          -0.16964026614234276,
          -0.21092576628988033,
          -0.1239011017367573,
          0.04004086309878172,
          0.029648021830951492,
          -0.04425834655944891,
          -0.08776964491532352,
          -0.047899238643560924,
          -0.008222874468249266,
          -0.014554006138334366,
          0.05193647108504966,
          0.10142514478177292,
          0.11624371357383312,
          0.008461849859701017,
          -0.023194669861712598,
          -0.044966286165902175,
          0.1162152399150236,
          0.02366216932394964,
          -0.03614768824822582,
          -0.01588565275728214,
          0.07773142422395432,
          -0.00249667305005955,
          -0.050509999216755495,
          0.02038210309554806,
          0.00507347962500422,
          0.019614153192425536,
          -0.02353909357720417,
          0.04378347413977568,
          0.08764518094330664,
          -0.05755524716810337,
          -0.11299235223463529,
          -0.004171855684480827,
          -0.0479785184822359,
          -0.004346607830766564,
          -0.029651603878063537,
          0.019797603856728845,
          -0.016213077541636856,
          0.014644295240055756,
          0.012450086800762341,
          -0.0210982044745942,
          -0.032625577411452,
          0.05591542540506617,
          -0.03819837035611626,
          0.027302460777318124,
          -0.004440681288660825,
          0.024889170700908445,
          0.0883825445967432,
          0.026709577708708618,
          0.005631783357645821,
          0.050837409878319036,
          0.05313048368087528,
          0.09941045674902678,
          0.0823327727005572,
          0.06432510347837789,
          0.1136501783635665,
          0.0867188633536967,
          0.08859373808053894,
          0.127364500019154,
          0.026353137851993398,
          0.0756816085645385,
          -0.011048303580551066,
          0.019217582877005635,
          0.06669449942561143,
          0.018370196451770415,
          -0.007459406320455395,
          0.04849655224508753,
          -0.03502010614689043,
          -0.0024895011114480564,
          0.0006614129170599753,
          0.020132117190738263,
          0.0330766730438826,
          0.025046554507069857,
          0.028547221970770982,
          0.01849515513269935,
          -0.03566669063169841,
          -0.0022992521029048117,
          -0.01131933798408634,
          -0.012627966575712742,
          -0.07270557654690055,
          -0.03947964780366802,
          0.0069344048376828145,
          -0.009119314973109159,
          -0.013849760547082965,
          -0.026516121584645145,
          -0.04013265395466014,
          -0.016029247720568775,
          -0.025166749150753728,
          0.003006943263805489,
          -0.029239337312109724,
          -0.020451722703518884,
          -0.07160444974285905,
          -0.0852809764560809,
          -0.13000886313838392,
          -0.11374734813968984,
          -0.22440023185883576
         ],
         "yaxis": "y"
        },
        {
         "hovertemplate": "variable=valence<br>Year=%{x}<br>Feature Value=%{y}<extra></extra>",
         "legendgroup": "valence",
         "line": {
          "color": "#19d3f3",
          "dash": "solid"
         },
         "marker": {
          "symbol": "circle"
         },
         "mode": "lines",
         "name": "valence",
         "orientation": "v",
         "showlegend": true,
         "type": "scatter",
         "x": [
          1900,
          1922,
          1923,
          1924,
          1925,
          1926,
          1927,
          1928,
          1929,
          1930,
          1931,
          1932,
          1933,
          1934,
          1935,
          1936,
          1937,
          1938,
          1939,
          1940,
          1941,
          1942,
          1943,
          1944,
          1945,
          1946,
          1947,
          1948,
          1949,
          1950,
          1951,
          1952,
          1953,
          1954,
          1955,
          1956,
          1957,
          1958,
          1959,
          1960,
          1961,
          1962,
          1963,
          1964,
          1965,
          1966,
          1967,
          1968,
          1969,
          1970,
          1971,
          1972,
          1973,
          1974,
          1975,
          1976,
          1977,
          1978,
          1979,
          1980,
          1981,
          1982,
          1983,
          1984,
          1985,
          1986,
          1987,
          1988,
          1989,
          1990,
          1991,
          1992,
          1993,
          1994,
          1995,
          1996,
          1997,
          1998,
          1999,
          2000,
          2001,
          2002,
          2003,
          2004,
          2005,
          2006,
          2007,
          2008,
          2009,
          2010,
          2011,
          2012,
          2013,
          2014,
          2015,
          2016,
          2017,
          2018,
          2019,
          2020,
          2021
         ],
         "xaxis": "x",
         "y": [
          1.5667574918166984,
          0.043903432544145804,
          0.46444623118360795,
          0.010256943403888507,
          0.32174304681057386,
          -0.04886382596549584,
          0.4960185032751418,
          -0.10958963527226138,
          0.36272792743334986,
          0.16240931487666285,
          0.05344651445534178,
          0.12353468617626673,
          0.1478399571006519,
          0.052494808968284706,
          -0.16608915232689633,
          0.08674337422645531,
          0.1461323720038787,
          -0.0440364723196031,
          0.13342125285710438,
          0.15514059827746926,
          -0.16200001874676237,
          -0.2751462058009708,
          -0.010816724055121811,
          0.03526876422648677,
          -0.23428263767506735,
          -0.41983527938309484,
          -0.11975528556752942,
          -0.4066020641066321,
          -0.3368977240751615,
          -0.04726976452009037,
          -0.2880124444971747,
          -0.3760054511072918,
          -0.44425022311049756,
          -0.40850328883240894,
          -0.28053844158259283,
          -0.08369683579701355,
          -0.07156489395291948,
          -0.14764425285451063,
          -0.19124516537015523,
          -0.057033844733947105,
          -0.05371629412199229,
          -0.013281281807137326,
          0.019817007446887507,
          0.09362300534486988,
          0.11945444109668531,
          0.1158889187678025,
          0.05523623089934886,
          0.08510416134563058,
          0.02214369888353879,
          0.06899474629350888,
          0.0609838874107885,
          0.091667567030625,
          0.08701655281395912,
          0.10253334449696426,
          0.07778088574164915,
          0.10090990103574209,
          0.10474989710450879,
          0.14171920393645374,
          0.22642700373466818,
          0.16100800453202274,
          0.1635204255574678,
          0.15184903498547497,
          0.11037458910241954,
          0.09410987037658942,
          0.1060462892731119,
          0.11570152312086479,
          0.07021235950377476,
          0.04050164635285519,
          0.08298724810424378,
          0.07204437610676298,
          0.0565368399033893,
          0.06969707672025224,
          0.12488568537161099,
          0.04687418739351766,
          0.06016083758742083,
          0.05625889433129073,
          0.06986805420256662,
          0.07070249823735929,
          0.06194328749856679,
          0.0841958186731353,
          0.0734078315417772,
          0.03995459051097978,
          0.053805509619723635,
          0.03689121784085269,
          0.026681949395411794,
          0.05073057025905903,
          0.020503328280054536,
          0.05953964510881918,
          0.024660914260638496,
          0.0033352985011001032,
          -0.04454931415768247,
          -0.051993052749061096,
          -0.1396707930284895,
          -0.09463555148271882,
          -0.16930606422888536,
          -0.22252484599910574,
          -0.2263624655606546,
          -0.2679445037488642,
          -0.22540711376566092,
          -0.19629712341716984,
          -0.1787744625705915
         ],
         "yaxis": "y"
        }
       ],
       "layout": {
        "legend": {
         "title": {
          "text": "variable"
         },
         "tracegroupgap": 0
        },
        "template": {
         "data": {
          "bar": [
           {
            "error_x": {
             "color": "#2a3f5f"
            },
            "error_y": {
             "color": "#2a3f5f"
            },
            "marker": {
             "line": {
              "color": "#E5ECF6",
              "width": 0.5
             },
             "pattern": {
              "fillmode": "overlay",
              "size": 10,
              "solidity": 0.2
             }
            },
            "type": "bar"
           }
          ],
          "barpolar": [
           {
            "marker": {
             "line": {
              "color": "#E5ECF6",
              "width": 0.5
             },
             "pattern": {
              "fillmode": "overlay",
              "size": 10,
              "solidity": 0.2
             }
            },
            "type": "barpolar"
           }
          ],
          "carpet": [
           {
            "aaxis": {
             "endlinecolor": "#2a3f5f",
             "gridcolor": "white",
             "linecolor": "white",
             "minorgridcolor": "white",
             "startlinecolor": "#2a3f5f"
            },
            "baxis": {
             "endlinecolor": "#2a3f5f",
             "gridcolor": "white",
             "linecolor": "white",
             "minorgridcolor": "white",
             "startlinecolor": "#2a3f5f"
            },
            "type": "carpet"
           }
          ],
          "choropleth": [
           {
            "colorbar": {
             "outlinewidth": 0,
             "ticks": ""
            },
            "type": "choropleth"
           }
          ],
          "contour": [
           {
            "colorbar": {
             "outlinewidth": 0,
             "ticks": ""
            },
            "colorscale": [
             [
              0,
              "#0d0887"
             ],
             [
              0.1111111111111111,
              "#46039f"
             ],
             [
              0.2222222222222222,
              "#7201a8"
             ],
             [
              0.3333333333333333,
              "#9c179e"
             ],
             [
              0.4444444444444444,
              "#bd3786"
             ],
             [
              0.5555555555555556,
              "#d8576b"
             ],
             [
              0.6666666666666666,
              "#ed7953"
             ],
             [
              0.7777777777777778,
              "#fb9f3a"
             ],
             [
              0.8888888888888888,
              "#fdca26"
             ],
             [
              1,
              "#f0f921"
             ]
            ],
            "type": "contour"
           }
          ],
          "contourcarpet": [
           {
            "colorbar": {
             "outlinewidth": 0,
             "ticks": ""
            },
            "type": "contourcarpet"
           }
          ],
          "heatmap": [
           {
            "colorbar": {
             "outlinewidth": 0,
             "ticks": ""
            },
            "colorscale": [
             [
              0,
              "#0d0887"
             ],
             [
              0.1111111111111111,
              "#46039f"
             ],
             [
              0.2222222222222222,
              "#7201a8"
             ],
             [
              0.3333333333333333,
              "#9c179e"
             ],
             [
              0.4444444444444444,
              "#bd3786"
             ],
             [
              0.5555555555555556,
              "#d8576b"
             ],
             [
              0.6666666666666666,
              "#ed7953"
             ],
             [
              0.7777777777777778,
              "#fb9f3a"
             ],
             [
              0.8888888888888888,
              "#fdca26"
             ],
             [
              1,
              "#f0f921"
             ]
            ],
            "type": "heatmap"
           }
          ],
          "heatmapgl": [
           {
            "colorbar": {
             "outlinewidth": 0,
             "ticks": ""
            },
            "colorscale": [
             [
              0,
              "#0d0887"
             ],
             [
              0.1111111111111111,
              "#46039f"
             ],
             [
              0.2222222222222222,
              "#7201a8"
             ],
             [
              0.3333333333333333,
              "#9c179e"
             ],
             [
              0.4444444444444444,
              "#bd3786"
             ],
             [
              0.5555555555555556,
              "#d8576b"
             ],
             [
              0.6666666666666666,
              "#ed7953"
             ],
             [
              0.7777777777777778,
              "#fb9f3a"
             ],
             [
              0.8888888888888888,
              "#fdca26"
             ],
             [
              1,
              "#f0f921"
             ]
            ],
            "type": "heatmapgl"
           }
          ],
          "histogram": [
           {
            "marker": {
             "pattern": {
              "fillmode": "overlay",
              "size": 10,
              "solidity": 0.2
             }
            },
            "type": "histogram"
           }
          ],
          "histogram2d": [
           {
            "colorbar": {
             "outlinewidth": 0,
             "ticks": ""
            },
            "colorscale": [
             [
              0,
              "#0d0887"
             ],
             [
              0.1111111111111111,
              "#46039f"
             ],
             [
              0.2222222222222222,
              "#7201a8"
             ],
             [
              0.3333333333333333,
              "#9c179e"
             ],
             [
              0.4444444444444444,
              "#bd3786"
             ],
             [
              0.5555555555555556,
              "#d8576b"
             ],
             [
              0.6666666666666666,
              "#ed7953"
             ],
             [
              0.7777777777777778,
              "#fb9f3a"
             ],
             [
              0.8888888888888888,
              "#fdca26"
             ],
             [
              1,
              "#f0f921"
             ]
            ],
            "type": "histogram2d"
           }
          ],
          "histogram2dcontour": [
           {
            "colorbar": {
             "outlinewidth": 0,
             "ticks": ""
            },
            "colorscale": [
             [
              0,
              "#0d0887"
             ],
             [
              0.1111111111111111,
              "#46039f"
             ],
             [
              0.2222222222222222,
              "#7201a8"
             ],
             [
              0.3333333333333333,
              "#9c179e"
             ],
             [
              0.4444444444444444,
              "#bd3786"
             ],
             [
              0.5555555555555556,
              "#d8576b"
             ],
             [
              0.6666666666666666,
              "#ed7953"
             ],
             [
              0.7777777777777778,
              "#fb9f3a"
             ],
             [
              0.8888888888888888,
              "#fdca26"
             ],
             [
              1,
              "#f0f921"
             ]
            ],
            "type": "histogram2dcontour"
           }
          ],
          "mesh3d": [
           {
            "colorbar": {
             "outlinewidth": 0,
             "ticks": ""
            },
            "type": "mesh3d"
           }
          ],
          "parcoords": [
           {
            "line": {
             "colorbar": {
              "outlinewidth": 0,
              "ticks": ""
             }
            },
            "type": "parcoords"
           }
          ],
          "pie": [
           {
            "automargin": true,
            "type": "pie"
           }
          ],
          "scatter": [
           {
            "fillpattern": {
             "fillmode": "overlay",
             "size": 10,
             "solidity": 0.2
            },
            "type": "scatter"
           }
          ],
          "scatter3d": [
           {
            "line": {
             "colorbar": {
              "outlinewidth": 0,
              "ticks": ""
             }
            },
            "marker": {
             "colorbar": {
              "outlinewidth": 0,
              "ticks": ""
             }
            },
            "type": "scatter3d"
           }
          ],
          "scattercarpet": [
           {
            "marker": {
             "colorbar": {
              "outlinewidth": 0,
              "ticks": ""
             }
            },
            "type": "scattercarpet"
           }
          ],
          "scattergeo": [
           {
            "marker": {
             "colorbar": {
              "outlinewidth": 0,
              "ticks": ""
             }
            },
            "type": "scattergeo"
           }
          ],
          "scattergl": [
           {
            "marker": {
             "colorbar": {
              "outlinewidth": 0,
              "ticks": ""
             }
            },
            "type": "scattergl"
           }
          ],
          "scattermapbox": [
           {
            "marker": {
             "colorbar": {
              "outlinewidth": 0,
              "ticks": ""
             }
            },
            "type": "scattermapbox"
           }
          ],
          "scatterpolar": [
           {
            "marker": {
             "colorbar": {
              "outlinewidth": 0,
              "ticks": ""
             }
            },
            "type": "scatterpolar"
           }
          ],
          "scatterpolargl": [
           {
            "marker": {
             "colorbar": {
              "outlinewidth": 0,
              "ticks": ""
             }
            },
            "type": "scatterpolargl"
           }
          ],
          "scatterternary": [
           {
            "marker": {
             "colorbar": {
              "outlinewidth": 0,
              "ticks": ""
             }
            },
            "type": "scatterternary"
           }
          ],
          "surface": [
           {
            "colorbar": {
             "outlinewidth": 0,
             "ticks": ""
            },
            "colorscale": [
             [
              0,
              "#0d0887"
             ],
             [
              0.1111111111111111,
              "#46039f"
             ],
             [
              0.2222222222222222,
              "#7201a8"
             ],
             [
              0.3333333333333333,
              "#9c179e"
             ],
             [
              0.4444444444444444,
              "#bd3786"
             ],
             [
              0.5555555555555556,
              "#d8576b"
             ],
             [
              0.6666666666666666,
              "#ed7953"
             ],
             [
              0.7777777777777778,
              "#fb9f3a"
             ],
             [
              0.8888888888888888,
              "#fdca26"
             ],
             [
              1,
              "#f0f921"
             ]
            ],
            "type": "surface"
           }
          ],
          "table": [
           {
            "cells": {
             "fill": {
              "color": "#EBF0F8"
             },
             "line": {
              "color": "white"
             }
            },
            "header": {
             "fill": {
              "color": "#C8D4E3"
             },
             "line": {
              "color": "white"
             }
            },
            "type": "table"
           }
          ]
         },
         "layout": {
          "annotationdefaults": {
           "arrowcolor": "#2a3f5f",
           "arrowhead": 0,
           "arrowwidth": 1
          },
          "autotypenumbers": "strict",
          "coloraxis": {
           "colorbar": {
            "outlinewidth": 0,
            "ticks": ""
           }
          },
          "colorscale": {
           "diverging": [
            [
             0,
             "#8e0152"
            ],
            [
             0.1,
             "#c51b7d"
            ],
            [
             0.2,
             "#de77ae"
            ],
            [
             0.3,
             "#f1b6da"
            ],
            [
             0.4,
             "#fde0ef"
            ],
            [
             0.5,
             "#f7f7f7"
            ],
            [
             0.6,
             "#e6f5d0"
            ],
            [
             0.7,
             "#b8e186"
            ],
            [
             0.8,
             "#7fbc41"
            ],
            [
             0.9,
             "#4d9221"
            ],
            [
             1,
             "#276419"
            ]
           ],
           "sequential": [
            [
             0,
             "#0d0887"
            ],
            [
             0.1111111111111111,
             "#46039f"
            ],
            [
             0.2222222222222222,
             "#7201a8"
            ],
            [
             0.3333333333333333,
             "#9c179e"
            ],
            [
             0.4444444444444444,
             "#bd3786"
            ],
            [
             0.5555555555555556,
             "#d8576b"
            ],
            [
             0.6666666666666666,
             "#ed7953"
            ],
            [
             0.7777777777777778,
             "#fb9f3a"
            ],
            [
             0.8888888888888888,
             "#fdca26"
            ],
            [
             1,
             "#f0f921"
            ]
           ],
           "sequentialminus": [
            [
             0,
             "#0d0887"
            ],
            [
             0.1111111111111111,
             "#46039f"
            ],
            [
             0.2222222222222222,
             "#7201a8"
            ],
            [
             0.3333333333333333,
             "#9c179e"
            ],
            [
             0.4444444444444444,
             "#bd3786"
            ],
            [
             0.5555555555555556,
             "#d8576b"
            ],
            [
             0.6666666666666666,
             "#ed7953"
            ],
            [
             0.7777777777777778,
             "#fb9f3a"
            ],
            [
             0.8888888888888888,
             "#fdca26"
            ],
            [
             1,
             "#f0f921"
            ]
           ]
          },
          "colorway": [
           "#636efa",
           "#EF553B",
           "#00cc96",
           "#ab63fa",
           "#FFA15A",
           "#19d3f3",
           "#FF6692",
           "#B6E880",
           "#FF97FF",
           "#FECB52"
          ],
          "font": {
           "color": "#2a3f5f"
          },
          "geo": {
           "bgcolor": "white",
           "lakecolor": "white",
           "landcolor": "#E5ECF6",
           "showlakes": true,
           "showland": true,
           "subunitcolor": "white"
          },
          "hoverlabel": {
           "align": "left"
          },
          "hovermode": "closest",
          "mapbox": {
           "style": "light"
          },
          "paper_bgcolor": "white",
          "plot_bgcolor": "#E5ECF6",
          "polar": {
           "angularaxis": {
            "gridcolor": "white",
            "linecolor": "white",
            "ticks": ""
           },
           "bgcolor": "#E5ECF6",
           "radialaxis": {
            "gridcolor": "white",
            "linecolor": "white",
            "ticks": ""
           }
          },
          "scene": {
           "xaxis": {
            "backgroundcolor": "#E5ECF6",
            "gridcolor": "white",
            "gridwidth": 2,
            "linecolor": "white",
            "showbackground": true,
            "ticks": "",
            "zerolinecolor": "white"
           },
           "yaxis": {
            "backgroundcolor": "#E5ECF6",
            "gridcolor": "white",
            "gridwidth": 2,
            "linecolor": "white",
            "showbackground": true,
            "ticks": "",
            "zerolinecolor": "white"
           },
           "zaxis": {
            "backgroundcolor": "#E5ECF6",
            "gridcolor": "white",
            "gridwidth": 2,
            "linecolor": "white",
            "showbackground": true,
            "ticks": "",
            "zerolinecolor": "white"
           }
          },
          "shapedefaults": {
           "line": {
            "color": "#2a3f5f"
           }
          },
          "ternary": {
           "aaxis": {
            "gridcolor": "white",
            "linecolor": "white",
            "ticks": ""
           },
           "baxis": {
            "gridcolor": "white",
            "linecolor": "white",
            "ticks": ""
           },
           "bgcolor": "#E5ECF6",
           "caxis": {
            "gridcolor": "white",
            "linecolor": "white",
            "ticks": ""
           }
          },
          "title": {
           "x": 0.05
          },
          "xaxis": {
           "automargin": true,
           "gridcolor": "white",
           "linecolor": "white",
           "ticks": "",
           "title": {
            "standoff": 15
           },
           "zerolinecolor": "white",
           "zerolinewidth": 2
          },
          "yaxis": {
           "automargin": true,
           "gridcolor": "white",
           "linecolor": "white",
           "ticks": "",
           "title": {
            "standoff": 15
           },
           "zerolinecolor": "white",
           "zerolinewidth": 2
          }
         }
        },
        "title": {
         "text": "Trend of Sound Features Over Time"
        },
        "xaxis": {
         "anchor": "y",
         "domain": [
          0,
          1
         ],
         "title": {
          "text": "Year"
         }
        },
        "yaxis": {
         "anchor": "x",
         "domain": [
          0,
          1
         ],
         "title": {
          "text": "Feature Value"
         }
        }
       }
      }
     },
     "metadata": {},
     "output_type": "display_data"
    }
   ],
   "source": [
    "# visualizing dataset, seeing patterns in it: GRAPH #3\n",
    "sound_features = ['acousticness', 'danceability', 'energy', 'instrumentalness', 'liveness', 'valence']\n",
    "year_data = spotify_normalized_df.groupby('release_year')[sound_features].mean().reset_index()\n",
    "\n",
    "fig = px.line(year_data, x='release_year', y=sound_features, \n",
    "              labels={'release_year': 'Year', 'value': 'Feature Value'}, \n",
    "              title='Trend of Sound Features Over Time')\n",
    "\n",
    "fig.show()"
   ]
  },
  {
   "cell_type": "code",
   "execution_count": 58,
   "metadata": {},
   "outputs": [],
   "source": [
    "# K-Means Clustering\n",
    "clustering_features = [\n",
    "    'popularity', 'duration_ms', 'explicit', 'danceability', 'energy', \n",
    "    'key', 'loudness', 'mode', 'speechiness', 'acousticness', \n",
    "    'instrumentalness', 'liveness', 'valence', 'tempo', 'time_signature'\n",
    "]\n"
   ]
  },
  {
   "cell_type": "code",
   "execution_count": 57,
   "metadata": {},
   "outputs": [
    {
     "data": {
      "text/html": [
       "<div>\n",
       "<style scoped>\n",
       "    .dataframe tbody tr th:only-of-type {\n",
       "        vertical-align: middle;\n",
       "    }\n",
       "\n",
       "    .dataframe tbody tr th {\n",
       "        vertical-align: top;\n",
       "    }\n",
       "\n",
       "    .dataframe thead th {\n",
       "        text-align: right;\n",
       "    }\n",
       "</style>\n",
       "<table border=\"1\" class=\"dataframe\">\n",
       "  <thead>\n",
       "    <tr style=\"text-align: right;\">\n",
       "      <th></th>\n",
       "      <th>popularity</th>\n",
       "      <th>duration_ms</th>\n",
       "      <th>explicit</th>\n",
       "      <th>danceability</th>\n",
       "      <th>energy</th>\n",
       "      <th>key</th>\n",
       "      <th>loudness</th>\n",
       "      <th>mode</th>\n",
       "      <th>speechiness</th>\n",
       "      <th>acousticness</th>\n",
       "      <th>instrumentalness</th>\n",
       "      <th>liveness</th>\n",
       "      <th>valence</th>\n",
       "      <th>tempo</th>\n",
       "      <th>time_signature</th>\n",
       "    </tr>\n",
       "  </thead>\n",
       "  <tbody>\n",
       "    <tr>\n",
       "      <th>0</th>\n",
       "      <td>-1.174160</td>\n",
       "      <td>126903</td>\n",
       "      <td>0</td>\n",
       "      <td>0.490096</td>\n",
       "      <td>-0.385182</td>\n",
       "      <td>-1.483654</td>\n",
       "      <td>-13.338</td>\n",
       "      <td>1</td>\n",
       "      <td>0.4510</td>\n",
       "      <td>0.642528</td>\n",
       "      <td>2.362779</td>\n",
       "      <td>-0.341434</td>\n",
       "      <td>-1.650527</td>\n",
       "      <td>-0.457392</td>\n",
       "      <td>-1.845842</td>\n",
       "    </tr>\n",
       "    <tr>\n",
       "      <th>1</th>\n",
       "      <td>-1.500768</td>\n",
       "      <td>98200</td>\n",
       "      <td>0</td>\n",
       "      <td>0.791115</td>\n",
       "      <td>-1.107625</td>\n",
       "      <td>-1.483654</td>\n",
       "      <td>-22.136</td>\n",
       "      <td>1</td>\n",
       "      <td>0.9570</td>\n",
       "      <td>0.995129</td>\n",
       "      <td>-0.425120</td>\n",
       "      <td>-0.357710</td>\n",
       "      <td>0.398600</td>\n",
       "      <td>-0.552876</td>\n",
       "      <td>-6.072724</td>\n",
       "    </tr>\n",
       "    <tr>\n",
       "      <th>2</th>\n",
       "      <td>-1.500768</td>\n",
       "      <td>181640</td>\n",
       "      <td>0</td>\n",
       "      <td>-0.780204</td>\n",
       "      <td>-1.449000</td>\n",
       "      <td>-1.199517</td>\n",
       "      <td>-21.180</td>\n",
       "      <td>1</td>\n",
       "      <td>0.0512</td>\n",
       "      <td>1.559864</td>\n",
       "      <td>-0.343432</td>\n",
       "      <td>-0.010498</td>\n",
       "      <td>-0.369823</td>\n",
       "      <td>0.401596</td>\n",
       "      <td>2.381040</td>\n",
       "    </tr>\n",
       "    <tr>\n",
       "      <th>3</th>\n",
       "      <td>-1.500768</td>\n",
       "      <td>176907</td>\n",
       "      <td>0</td>\n",
       "      <td>-1.460507</td>\n",
       "      <td>-1.776084</td>\n",
       "      <td>0.505310</td>\n",
       "      <td>-27.961</td>\n",
       "      <td>1</td>\n",
       "      <td>0.0504</td>\n",
       "      <td>1.562730</td>\n",
       "      <td>3.014787</td>\n",
       "      <td>-0.596418</td>\n",
       "      <td>-0.602678</td>\n",
       "      <td>1.730782</td>\n",
       "      <td>-1.845842</td>\n",
       "    </tr>\n",
       "    <tr>\n",
       "      <th>4</th>\n",
       "      <td>-1.500768</td>\n",
       "      <td>163080</td>\n",
       "      <td>0</td>\n",
       "      <td>-0.972856</td>\n",
       "      <td>-1.524420</td>\n",
       "      <td>-0.631241</td>\n",
       "      <td>-16.900</td>\n",
       "      <td>0</td>\n",
       "      <td>0.0390</td>\n",
       "      <td>1.545530</td>\n",
       "      <td>0.062013</td>\n",
       "      <td>0.526596</td>\n",
       "      <td>-1.382743</td>\n",
       "      <td>-0.512190</td>\n",
       "      <td>0.267599</td>\n",
       "    </tr>\n",
       "  </tbody>\n",
       "</table>\n",
       "</div>"
      ],
      "text/plain": [
       "   popularity  duration_ms  explicit  danceability    energy       key  \\\n",
       "0   -1.174160       126903         0      0.490096 -0.385182 -1.483654   \n",
       "1   -1.500768        98200         0      0.791115 -1.107625 -1.483654   \n",
       "2   -1.500768       181640         0     -0.780204 -1.449000 -1.199517   \n",
       "3   -1.500768       176907         0     -1.460507 -1.776084  0.505310   \n",
       "4   -1.500768       163080         0     -0.972856 -1.524420 -0.631241   \n",
       "\n",
       "   loudness  mode  speechiness  acousticness  instrumentalness  liveness  \\\n",
       "0   -13.338     1       0.4510      0.642528          2.362779 -0.341434   \n",
       "1   -22.136     1       0.9570      0.995129         -0.425120 -0.357710   \n",
       "2   -21.180     1       0.0512      1.559864         -0.343432 -0.010498   \n",
       "3   -27.961     1       0.0504      1.562730          3.014787 -0.596418   \n",
       "4   -16.900     0       0.0390      1.545530          0.062013  0.526596   \n",
       "\n",
       "    valence     tempo  time_signature  \n",
       "0 -1.650527 -0.457392       -1.845842  \n",
       "1  0.398600 -0.552876       -6.072724  \n",
       "2 -0.369823  0.401596        2.381040  \n",
       "3 -0.602678  1.730782       -1.845842  \n",
       "4 -1.382743 -0.512190        0.267599  "
      ]
     },
     "execution_count": 57,
     "metadata": {},
     "output_type": "execute_result"
    }
   ],
   "source": [
    "X = spotify_normalized_df[clustering_features]\n",
    "X.head()"
   ]
  },
  {
   "cell_type": "code",
   "execution_count": null,
   "metadata": {},
   "outputs": [
    {
     "data": {
      "image/png": "[encoded data removed]",
      "text/plain": [
       "<Figure size 800x500 with 1 Axes>"
      ]
     },
     "metadata": {},
     "output_type": "display_data"
    }
   ],
   "source": [
    "# Elbow method to see best amount of clusters\n",
    "inertia = []\n",
    "K = range(1, 16)  # test sizes 1-15\n",
    "\n",
    "for k in K:\n",
    "    kmeans = KMeans(n_clusters=k, random_state=42)\n",
    "    kmeans.fit(X)\n",
    "    inertia.append(kmeans.inertia_)\n",
    "\n",
    "# Plot the elbow curve\n",
    "plt.figure(figsize=(8, 5))\n",
    "plt.plot(K, inertia, 'bo-')\n",
    "plt.xlabel('Number of clusters (k)')\n",
    "plt.ylabel('Inertia')\n",
    "plt.title('Elbow Method for Optimal k')\n",
    "plt.show()\n",
    "\n",
    "# going to use k = 5\n"
   ]
  },
  {
   "cell_type": "code",
   "execution_count": null,
   "metadata": {},
   "outputs": [],
   "source": [
    "# actual k means cluser\n",
    "optimal_k = 5 # couldalso be 4\n",
    "kmeans = KMeans(n_clusters=optimal_k, random_state=42)\n",
    "spotify_normalized_df['cluster'] = kmeans.fit_predict(X)"
   ]
  },
  {
   "cell_type": "code",
   "execution_count": 60,
   "metadata": {},
   "outputs": [
    {
     "data": {
      "image/png": "[encoded data removed]",
      "text/plain": [
       "<Figure size 1000x700 with 1 Axes>"
      ]
     },
     "metadata": {},
     "output_type": "display_data"
    }
   ],
   "source": [
    "# visualize cluster\n",
    "# rec dimensions to 2D using PCA\n",
    "pca = PCA(n_components=2)\n",
    "X_pca = pca.fit_transform(X)\n",
    "\n",
    "spotify_normalized_df['pca_1'] = X_pca[:, 0]\n",
    "spotify_normalized_df['pca_2'] = X_pca[:, 1]\n",
    "\n",
    "# plot\n",
    "plt.figure(figsize=(10, 7))\n",
    "sns.scatterplot(data=spotify_normalized_df, x='pca_1', y='pca_2', hue='cluster', palette='viridis', s=50)\n",
    "plt.title('K-Means Clustering Results (PCA-reduced)')\n",
    "plt.show()"
   ]
  },
  {
   "cell_type": "code",
   "execution_count": 51,
   "metadata": {},
   "outputs": [
    {
     "data": {
      "text/html": [
       "<div>\n",
       "<style scoped>\n",
       "    .dataframe tbody tr th:only-of-type {\n",
       "        vertical-align: middle;\n",
       "    }\n",
       "\n",
       "    .dataframe tbody tr th {\n",
       "        vertical-align: top;\n",
       "    }\n",
       "\n",
       "    .dataframe thead th {\n",
       "        text-align: right;\n",
       "    }\n",
       "</style>\n",
       "<table border=\"1\" class=\"dataframe\">\n",
       "  <thead>\n",
       "    <tr style=\"text-align: right;\">\n",
       "      <th></th>\n",
       "      <th>Unnamed: 0</th>\n",
       "      <th>track_id</th>\n",
       "      <th>artists</th>\n",
       "      <th>album_name</th>\n",
       "      <th>track_name</th>\n",
       "      <th>popularity</th>\n",
       "      <th>duration_ms</th>\n",
       "      <th>explicit</th>\n",
       "      <th>danceability</th>\n",
       "      <th>energy</th>\n",
       "      <th>...</th>\n",
       "      <th>loudness</th>\n",
       "      <th>mode</th>\n",
       "      <th>speechiness</th>\n",
       "      <th>acousticness</th>\n",
       "      <th>instrumentalness</th>\n",
       "      <th>liveness</th>\n",
       "      <th>valence</th>\n",
       "      <th>tempo</th>\n",
       "      <th>time_signature</th>\n",
       "      <th>track_genre</th>\n",
       "    </tr>\n",
       "  </thead>\n",
       "  <tbody>\n",
       "    <tr>\n",
       "      <th>0</th>\n",
       "      <td>0</td>\n",
       "      <td>5SuOikwiRyPMVoIQDJUgSV</td>\n",
       "      <td>Gen Hoshino</td>\n",
       "      <td>Comedy</td>\n",
       "      <td>Comedy</td>\n",
       "      <td>73</td>\n",
       "      <td>230666</td>\n",
       "      <td>0</td>\n",
       "      <td>0.676</td>\n",
       "      <td>0.4610</td>\n",
       "      <td>...</td>\n",
       "      <td>-6.746</td>\n",
       "      <td>0</td>\n",
       "      <td>0.1430</td>\n",
       "      <td>0.0322</td>\n",
       "      <td>0.000001</td>\n",
       "      <td>0.3580</td>\n",
       "      <td>0.715</td>\n",
       "      <td>87.917</td>\n",
       "      <td>4</td>\n",
       "      <td>acoustic</td>\n",
       "    </tr>\n",
       "    <tr>\n",
       "      <th>1</th>\n",
       "      <td>1</td>\n",
       "      <td>4qPNDBW1i3p13qLCt0Ki3A</td>\n",
       "      <td>Ben Woodward</td>\n",
       "      <td>Ghost (Acoustic)</td>\n",
       "      <td>Ghost - Acoustic</td>\n",
       "      <td>55</td>\n",
       "      <td>149610</td>\n",
       "      <td>0</td>\n",
       "      <td>0.420</td>\n",
       "      <td>0.1660</td>\n",
       "      <td>...</td>\n",
       "      <td>-17.235</td>\n",
       "      <td>1</td>\n",
       "      <td>0.0763</td>\n",
       "      <td>0.9240</td>\n",
       "      <td>0.000006</td>\n",
       "      <td>0.1010</td>\n",
       "      <td>0.267</td>\n",
       "      <td>77.489</td>\n",
       "      <td>4</td>\n",
       "      <td>acoustic</td>\n",
       "    </tr>\n",
       "    <tr>\n",
       "      <th>2</th>\n",
       "      <td>2</td>\n",
       "      <td>1iJBSr7s7jYXzM8EGcbK5b</td>\n",
       "      <td>Ingrid Michaelson;ZAYN</td>\n",
       "      <td>To Begin Again</td>\n",
       "      <td>To Begin Again</td>\n",
       "      <td>57</td>\n",
       "      <td>210826</td>\n",
       "      <td>0</td>\n",
       "      <td>0.438</td>\n",
       "      <td>0.3590</td>\n",
       "      <td>...</td>\n",
       "      <td>-9.734</td>\n",
       "      <td>1</td>\n",
       "      <td>0.0557</td>\n",
       "      <td>0.2100</td>\n",
       "      <td>0.000000</td>\n",
       "      <td>0.1170</td>\n",
       "      <td>0.120</td>\n",
       "      <td>76.332</td>\n",
       "      <td>4</td>\n",
       "      <td>acoustic</td>\n",
       "    </tr>\n",
       "    <tr>\n",
       "      <th>3</th>\n",
       "      <td>3</td>\n",
       "      <td>6lfxq3CG4xtTiEg7opyCyx</td>\n",
       "      <td>Kina Grannis</td>\n",
       "      <td>Crazy Rich Asians (Original Motion Picture Sou...</td>\n",
       "      <td>Can't Help Falling In Love</td>\n",
       "      <td>71</td>\n",
       "      <td>201933</td>\n",
       "      <td>0</td>\n",
       "      <td>0.266</td>\n",
       "      <td>0.0596</td>\n",
       "      <td>...</td>\n",
       "      <td>-18.515</td>\n",
       "      <td>1</td>\n",
       "      <td>0.0363</td>\n",
       "      <td>0.9050</td>\n",
       "      <td>0.000071</td>\n",
       "      <td>0.1320</td>\n",
       "      <td>0.143</td>\n",
       "      <td>181.740</td>\n",
       "      <td>3</td>\n",
       "      <td>acoustic</td>\n",
       "    </tr>\n",
       "    <tr>\n",
       "      <th>4</th>\n",
       "      <td>4</td>\n",
       "      <td>5vjLSffimiIP26QG5WcN2K</td>\n",
       "      <td>Chord Overstreet</td>\n",
       "      <td>Hold On</td>\n",
       "      <td>Hold On</td>\n",
       "      <td>82</td>\n",
       "      <td>198853</td>\n",
       "      <td>0</td>\n",
       "      <td>0.618</td>\n",
       "      <td>0.4430</td>\n",
       "      <td>...</td>\n",
       "      <td>-9.681</td>\n",
       "      <td>1</td>\n",
       "      <td>0.0526</td>\n",
       "      <td>0.4690</td>\n",
       "      <td>0.000000</td>\n",
       "      <td>0.0829</td>\n",
       "      <td>0.167</td>\n",
       "      <td>119.949</td>\n",
       "      <td>4</td>\n",
       "      <td>acoustic</td>\n",
       "    </tr>\n",
       "  </tbody>\n",
       "</table>\n",
       "<p>5 rows × 21 columns</p>\n",
       "</div>"
      ],
      "text/plain": [
       "   Unnamed: 0                track_id                 artists  \\\n",
       "0           0  5SuOikwiRyPMVoIQDJUgSV             Gen Hoshino   \n",
       "1           1  4qPNDBW1i3p13qLCt0Ki3A            Ben Woodward   \n",
       "2           2  1iJBSr7s7jYXzM8EGcbK5b  Ingrid Michaelson;ZAYN   \n",
       "3           3  6lfxq3CG4xtTiEg7opyCyx            Kina Grannis   \n",
       "4           4  5vjLSffimiIP26QG5WcN2K        Chord Overstreet   \n",
       "\n",
       "                                          album_name  \\\n",
       "0                                             Comedy   \n",
       "1                                   Ghost (Acoustic)   \n",
       "2                                     To Begin Again   \n",
       "3  Crazy Rich Asians (Original Motion Picture Sou...   \n",
       "4                                            Hold On   \n",
       "\n",
       "                   track_name  popularity  duration_ms  explicit  \\\n",
       "0                      Comedy          73       230666         0   \n",
       "1            Ghost - Acoustic          55       149610         0   \n",
       "2              To Begin Again          57       210826         0   \n",
       "3  Can't Help Falling In Love          71       201933         0   \n",
       "4                     Hold On          82       198853         0   \n",
       "\n",
       "   danceability  energy  ...  loudness  mode  speechiness  acousticness  \\\n",
       "0         0.676  0.4610  ...    -6.746     0       0.1430        0.0322   \n",
       "1         0.420  0.1660  ...   -17.235     1       0.0763        0.9240   \n",
       "2         0.438  0.3590  ...    -9.734     1       0.0557        0.2100   \n",
       "3         0.266  0.0596  ...   -18.515     1       0.0363        0.9050   \n",
       "4         0.618  0.4430  ...    -9.681     1       0.0526        0.4690   \n",
       "\n",
       "   instrumentalness  liveness  valence    tempo  time_signature  track_genre  \n",
       "0          0.000001    0.3580    0.715   87.917               4     acoustic  \n",
       "1          0.000006    0.1010    0.267   77.489               4     acoustic  \n",
       "2          0.000000    0.1170    0.120   76.332               4     acoustic  \n",
       "3          0.000071    0.1320    0.143  181.740               3     acoustic  \n",
       "4          0.000000    0.0829    0.167  119.949               4     acoustic  \n",
       "\n",
       "[5 rows x 21 columns]"
      ]
     },
     "execution_count": 51,
     "metadata": {},
     "output_type": "execute_result"
    }
   ],
   "source": [
    "# take any set of songs from the test dataset and try and generate a recommended playlist from it\n",
    "spotify_df_test = pd.read_csv('/Users/anikasethi/Desktop/test_dataset.csv')\n",
    "spotify_df_test['explicit'] = spotify_df_test['explicit'].map({True: 1, False: 0})\n",
    "spotify_df_test.head()"
   ]
  },
  {
   "cell_type": "code",
   "execution_count": null,
   "metadata": {},
   "outputs": [
    {
     "data": {
      "text/plain": [
       "Index(['Unnamed: 0', 'track_id', 'artists', 'album_name', 'track_name',\n",
       "       'popularity', 'duration_ms', 'explicit', 'danceability', 'energy',\n",
       "       'key', 'loudness', 'mode', 'speechiness', 'acousticness',\n",
       "       'instrumentalness', 'liveness', 'valence', 'tempo', 'time_signature',\n",
       "       'track_genre'],\n",
       "      dtype='object')"
      ]
     },
     "execution_count": 34,
     "metadata": {},
     "output_type": "execute_result"
    }
   ],
   "source": [
    "spotify_df_test.columns"
   ]
  },
  {
   "cell_type": "code",
   "execution_count": null,
   "metadata": {},
   "outputs": [
    {
     "data": {
      "text/html": [
       "<div>\n",
       "<style scoped>\n",
       "    .dataframe tbody tr th:only-of-type {\n",
       "        vertical-align: middle;\n",
       "    }\n",
       "\n",
       "    .dataframe tbody tr th {\n",
       "        vertical-align: top;\n",
       "    }\n",
       "\n",
       "    .dataframe thead th {\n",
       "        text-align: right;\n",
       "    }\n",
       "</style>\n",
       "<table border=\"1\" class=\"dataframe\">\n",
       "  <thead>\n",
       "    <tr style=\"text-align: right;\">\n",
       "      <th></th>\n",
       "      <th>popularity</th>\n",
       "      <th>duration_ms</th>\n",
       "      <th>explicit</th>\n",
       "      <th>danceability</th>\n",
       "      <th>energy</th>\n",
       "      <th>key</th>\n",
       "      <th>loudness</th>\n",
       "      <th>mode</th>\n",
       "      <th>speechiness</th>\n",
       "      <th>acousticness</th>\n",
       "      <th>instrumentalness</th>\n",
       "      <th>liveness</th>\n",
       "      <th>valence</th>\n",
       "      <th>tempo</th>\n",
       "      <th>time_signature</th>\n",
       "    </tr>\n",
       "  </thead>\n",
       "  <tbody>\n",
       "    <tr>\n",
       "      <th>0</th>\n",
       "      <td>73</td>\n",
       "      <td>230666</td>\n",
       "      <td>0</td>\n",
       "      <td>0.676</td>\n",
       "      <td>0.4610</td>\n",
       "      <td>1</td>\n",
       "      <td>-6.746</td>\n",
       "      <td>0</td>\n",
       "      <td>0.1430</td>\n",
       "      <td>0.0322</td>\n",
       "      <td>0.000001</td>\n",
       "      <td>0.3580</td>\n",
       "      <td>0.715</td>\n",
       "      <td>87.917</td>\n",
       "      <td>4</td>\n",
       "    </tr>\n",
       "    <tr>\n",
       "      <th>1</th>\n",
       "      <td>55</td>\n",
       "      <td>149610</td>\n",
       "      <td>0</td>\n",
       "      <td>0.420</td>\n",
       "      <td>0.1660</td>\n",
       "      <td>1</td>\n",
       "      <td>-17.235</td>\n",
       "      <td>1</td>\n",
       "      <td>0.0763</td>\n",
       "      <td>0.9240</td>\n",
       "      <td>0.000006</td>\n",
       "      <td>0.1010</td>\n",
       "      <td>0.267</td>\n",
       "      <td>77.489</td>\n",
       "      <td>4</td>\n",
       "    </tr>\n",
       "    <tr>\n",
       "      <th>2</th>\n",
       "      <td>57</td>\n",
       "      <td>210826</td>\n",
       "      <td>0</td>\n",
       "      <td>0.438</td>\n",
       "      <td>0.3590</td>\n",
       "      <td>0</td>\n",
       "      <td>-9.734</td>\n",
       "      <td>1</td>\n",
       "      <td>0.0557</td>\n",
       "      <td>0.2100</td>\n",
       "      <td>0.000000</td>\n",
       "      <td>0.1170</td>\n",
       "      <td>0.120</td>\n",
       "      <td>76.332</td>\n",
       "      <td>4</td>\n",
       "    </tr>\n",
       "    <tr>\n",
       "      <th>3</th>\n",
       "      <td>71</td>\n",
       "      <td>201933</td>\n",
       "      <td>0</td>\n",
       "      <td>0.266</td>\n",
       "      <td>0.0596</td>\n",
       "      <td>0</td>\n",
       "      <td>-18.515</td>\n",
       "      <td>1</td>\n",
       "      <td>0.0363</td>\n",
       "      <td>0.9050</td>\n",
       "      <td>0.000071</td>\n",
       "      <td>0.1320</td>\n",
       "      <td>0.143</td>\n",
       "      <td>181.740</td>\n",
       "      <td>3</td>\n",
       "    </tr>\n",
       "    <tr>\n",
       "      <th>4</th>\n",
       "      <td>82</td>\n",
       "      <td>198853</td>\n",
       "      <td>0</td>\n",
       "      <td>0.618</td>\n",
       "      <td>0.4430</td>\n",
       "      <td>2</td>\n",
       "      <td>-9.681</td>\n",
       "      <td>1</td>\n",
       "      <td>0.0526</td>\n",
       "      <td>0.4690</td>\n",
       "      <td>0.000000</td>\n",
       "      <td>0.0829</td>\n",
       "      <td>0.167</td>\n",
       "      <td>119.949</td>\n",
       "      <td>4</td>\n",
       "    </tr>\n",
       "  </tbody>\n",
       "</table>\n",
       "</div>"
      ],
      "text/plain": [
       "   popularity  duration_ms  explicit  danceability  energy  key  loudness  \\\n",
       "0          73       230666         0         0.676  0.4610    1    -6.746   \n",
       "1          55       149610         0         0.420  0.1660    1   -17.235   \n",
       "2          57       210826         0         0.438  0.3590    0    -9.734   \n",
       "3          71       201933         0         0.266  0.0596    0   -18.515   \n",
       "4          82       198853         0         0.618  0.4430    2    -9.681   \n",
       "\n",
       "   mode  speechiness  acousticness  instrumentalness  liveness  valence  \\\n",
       "0     0       0.1430        0.0322          0.000001    0.3580    0.715   \n",
       "1     1       0.0763        0.9240          0.000006    0.1010    0.267   \n",
       "2     1       0.0557        0.2100          0.000000    0.1170    0.120   \n",
       "3     1       0.0363        0.9050          0.000071    0.1320    0.143   \n",
       "4     1       0.0526        0.4690          0.000000    0.0829    0.167   \n",
       "\n",
       "     tempo  time_signature  \n",
       "0   87.917               4  \n",
       "1   77.489               4  \n",
       "2   76.332               4  \n",
       "3  181.740               3  \n",
       "4  119.949               4  "
      ]
     },
     "execution_count": 53,
     "metadata": {},
     "output_type": "execute_result"
    }
   ],
   "source": [
    "# Align test dataset features with training features\n",
    "# Ensure the test dataset has only the required features in the correct order\n",
    "spotify_df_test_aligned = spotify_df_test[clustering_features].copy()\n",
    "spotify_df_test_aligned.head()\n"
   ]
  },
  {
   "cell_type": "code",
   "execution_count": 62,
   "metadata": {},
   "outputs": [
    {
     "ename": "ValueError",
     "evalue": "The feature names should match those that were passed during fit.\nFeature names unseen at fit time:\n- duration_ms\n- explicit\n- loudness\n- mode\n- speechiness\n",
     "output_type": "error",
     "traceback": [
      "\u001b[0;31m---------------------------------------------------------------------------\u001b[0m",
      "\u001b[0;31mValueError\u001b[0m                                Traceback (most recent call last)",
      "Cell \u001b[0;32mIn[62], line 2\u001b[0m\n\u001b[1;32m      1\u001b[0m \u001b[38;5;66;03m# Transform using the trained scaler\u001b[39;00m\n\u001b[0;32m----> 2\u001b[0m spotify_df_test_scaled \u001b[38;5;241m=\u001b[39m \u001b[43mscaler\u001b[49m\u001b[38;5;241;43m.\u001b[39;49m\u001b[43mtransform\u001b[49m\u001b[43m(\u001b[49m\u001b[43mspotify_df_test_aligned\u001b[49m\u001b[43m)\u001b[49m\n\u001b[1;32m      4\u001b[0m \u001b[38;5;66;03m# Predict clusters using the trained K-Means model\u001b[39;00m\n\u001b[1;32m      5\u001b[0m spotify_df_test[\u001b[38;5;124m'\u001b[39m\u001b[38;5;124mcluster\u001b[39m\u001b[38;5;124m'\u001b[39m] \u001b[38;5;241m=\u001b[39m kmeans\u001b[38;5;241m.\u001b[39mpredict(spotify_df_test_scaled)\n",
      "File \u001b[0;32m/Library/Frameworks/Python.framework/Versions/3.11/lib/python3.11/site-packages/sklearn/utils/_set_output.py:295\u001b[0m, in \u001b[0;36m_wrap_method_output.<locals>.wrapped\u001b[0;34m(self, X, *args, **kwargs)\u001b[0m\n\u001b[1;32m    293\u001b[0m \u001b[38;5;129m@wraps\u001b[39m(f)\n\u001b[1;32m    294\u001b[0m \u001b[38;5;28;01mdef\u001b[39;00m \u001b[38;5;21mwrapped\u001b[39m(\u001b[38;5;28mself\u001b[39m, X, \u001b[38;5;241m*\u001b[39margs, \u001b[38;5;241m*\u001b[39m\u001b[38;5;241m*\u001b[39mkwargs):\n\u001b[0;32m--> 295\u001b[0m     data_to_wrap \u001b[38;5;241m=\u001b[39m \u001b[43mf\u001b[49m\u001b[43m(\u001b[49m\u001b[38;5;28;43mself\u001b[39;49m\u001b[43m,\u001b[49m\u001b[43m \u001b[49m\u001b[43mX\u001b[49m\u001b[43m,\u001b[49m\u001b[43m \u001b[49m\u001b[38;5;241;43m*\u001b[39;49m\u001b[43margs\u001b[49m\u001b[43m,\u001b[49m\u001b[43m \u001b[49m\u001b[38;5;241;43m*\u001b[39;49m\u001b[38;5;241;43m*\u001b[39;49m\u001b[43mkwargs\u001b[49m\u001b[43m)\u001b[49m\n\u001b[1;32m    296\u001b[0m     \u001b[38;5;28;01mif\u001b[39;00m \u001b[38;5;28misinstance\u001b[39m(data_to_wrap, \u001b[38;5;28mtuple\u001b[39m):\n\u001b[1;32m    297\u001b[0m         \u001b[38;5;66;03m# only wrap the first output for cross decomposition\u001b[39;00m\n\u001b[1;32m    298\u001b[0m         return_tuple \u001b[38;5;241m=\u001b[39m (\n\u001b[1;32m    299\u001b[0m             _wrap_data_with_container(method, data_to_wrap[\u001b[38;5;241m0\u001b[39m], X, \u001b[38;5;28mself\u001b[39m),\n\u001b[1;32m    300\u001b[0m             \u001b[38;5;241m*\u001b[39mdata_to_wrap[\u001b[38;5;241m1\u001b[39m:],\n\u001b[1;32m    301\u001b[0m         )\n",
      "File \u001b[0;32m/Library/Frameworks/Python.framework/Versions/3.11/lib/python3.11/site-packages/sklearn/preprocessing/_data.py:1043\u001b[0m, in \u001b[0;36mStandardScaler.transform\u001b[0;34m(self, X, copy)\u001b[0m\n\u001b[1;32m   1040\u001b[0m check_is_fitted(\u001b[38;5;28mself\u001b[39m)\n\u001b[1;32m   1042\u001b[0m copy \u001b[38;5;241m=\u001b[39m copy \u001b[38;5;28;01mif\u001b[39;00m copy \u001b[38;5;129;01mis\u001b[39;00m \u001b[38;5;129;01mnot\u001b[39;00m \u001b[38;5;28;01mNone\u001b[39;00m \u001b[38;5;28;01melse\u001b[39;00m \u001b[38;5;28mself\u001b[39m\u001b[38;5;241m.\u001b[39mcopy\n\u001b[0;32m-> 1043\u001b[0m X \u001b[38;5;241m=\u001b[39m \u001b[38;5;28;43mself\u001b[39;49m\u001b[38;5;241;43m.\u001b[39;49m\u001b[43m_validate_data\u001b[49m\u001b[43m(\u001b[49m\n\u001b[1;32m   1044\u001b[0m \u001b[43m    \u001b[49m\u001b[43mX\u001b[49m\u001b[43m,\u001b[49m\n\u001b[1;32m   1045\u001b[0m \u001b[43m    \u001b[49m\u001b[43mreset\u001b[49m\u001b[38;5;241;43m=\u001b[39;49m\u001b[38;5;28;43;01mFalse\u001b[39;49;00m\u001b[43m,\u001b[49m\n\u001b[1;32m   1046\u001b[0m \u001b[43m    \u001b[49m\u001b[43maccept_sparse\u001b[49m\u001b[38;5;241;43m=\u001b[39;49m\u001b[38;5;124;43m\"\u001b[39;49m\u001b[38;5;124;43mcsr\u001b[39;49m\u001b[38;5;124;43m\"\u001b[39;49m\u001b[43m,\u001b[49m\n\u001b[1;32m   1047\u001b[0m \u001b[43m    \u001b[49m\u001b[43mcopy\u001b[49m\u001b[38;5;241;43m=\u001b[39;49m\u001b[43mcopy\u001b[49m\u001b[43m,\u001b[49m\n\u001b[1;32m   1048\u001b[0m \u001b[43m    \u001b[49m\u001b[43mdtype\u001b[49m\u001b[38;5;241;43m=\u001b[39;49m\u001b[43mFLOAT_DTYPES\u001b[49m\u001b[43m,\u001b[49m\n\u001b[1;32m   1049\u001b[0m \u001b[43m    \u001b[49m\u001b[43mforce_all_finite\u001b[49m\u001b[38;5;241;43m=\u001b[39;49m\u001b[38;5;124;43m\"\u001b[39;49m\u001b[38;5;124;43mallow-nan\u001b[39;49m\u001b[38;5;124;43m\"\u001b[39;49m\u001b[43m,\u001b[49m\n\u001b[1;32m   1050\u001b[0m \u001b[43m\u001b[49m\u001b[43m)\u001b[49m\n\u001b[1;32m   1052\u001b[0m \u001b[38;5;28;01mif\u001b[39;00m sparse\u001b[38;5;241m.\u001b[39missparse(X):\n\u001b[1;32m   1053\u001b[0m     \u001b[38;5;28;01mif\u001b[39;00m \u001b[38;5;28mself\u001b[39m\u001b[38;5;241m.\u001b[39mwith_mean:\n",
      "File \u001b[0;32m/Library/Frameworks/Python.framework/Versions/3.11/lib/python3.11/site-packages/sklearn/base.py:608\u001b[0m, in \u001b[0;36mBaseEstimator._validate_data\u001b[0;34m(self, X, y, reset, validate_separately, cast_to_ndarray, **check_params)\u001b[0m\n\u001b[1;32m    537\u001b[0m \u001b[38;5;28;01mdef\u001b[39;00m \u001b[38;5;21m_validate_data\u001b[39m(\n\u001b[1;32m    538\u001b[0m     \u001b[38;5;28mself\u001b[39m,\n\u001b[1;32m    539\u001b[0m     X\u001b[38;5;241m=\u001b[39m\u001b[38;5;124m\"\u001b[39m\u001b[38;5;124mno_validation\u001b[39m\u001b[38;5;124m\"\u001b[39m,\n\u001b[0;32m   (...)\u001b[0m\n\u001b[1;32m    544\u001b[0m     \u001b[38;5;241m*\u001b[39m\u001b[38;5;241m*\u001b[39mcheck_params,\n\u001b[1;32m    545\u001b[0m ):\n\u001b[1;32m    546\u001b[0m \u001b[38;5;250m    \u001b[39m\u001b[38;5;124;03m\"\"\"Validate input data and set or check the `n_features_in_` attribute.\u001b[39;00m\n\u001b[1;32m    547\u001b[0m \n\u001b[1;32m    548\u001b[0m \u001b[38;5;124;03m    Parameters\u001b[39;00m\n\u001b[0;32m   (...)\u001b[0m\n\u001b[1;32m    606\u001b[0m \u001b[38;5;124;03m        validated.\u001b[39;00m\n\u001b[1;32m    607\u001b[0m \u001b[38;5;124;03m    \"\"\"\u001b[39;00m\n\u001b[0;32m--> 608\u001b[0m     \u001b[38;5;28;43mself\u001b[39;49m\u001b[38;5;241;43m.\u001b[39;49m\u001b[43m_check_feature_names\u001b[49m\u001b[43m(\u001b[49m\u001b[43mX\u001b[49m\u001b[43m,\u001b[49m\u001b[43m \u001b[49m\u001b[43mreset\u001b[49m\u001b[38;5;241;43m=\u001b[39;49m\u001b[43mreset\u001b[49m\u001b[43m)\u001b[49m\n\u001b[1;32m    610\u001b[0m     \u001b[38;5;28;01mif\u001b[39;00m y \u001b[38;5;129;01mis\u001b[39;00m \u001b[38;5;28;01mNone\u001b[39;00m \u001b[38;5;129;01mand\u001b[39;00m \u001b[38;5;28mself\u001b[39m\u001b[38;5;241m.\u001b[39m_get_tags()[\u001b[38;5;124m\"\u001b[39m\u001b[38;5;124mrequires_y\u001b[39m\u001b[38;5;124m\"\u001b[39m]:\n\u001b[1;32m    611\u001b[0m         \u001b[38;5;28;01mraise\u001b[39;00m \u001b[38;5;167;01mValueError\u001b[39;00m(\n\u001b[1;32m    612\u001b[0m             \u001b[38;5;124mf\u001b[39m\u001b[38;5;124m\"\u001b[39m\u001b[38;5;124mThis \u001b[39m\u001b[38;5;132;01m{\u001b[39;00m\u001b[38;5;28mself\u001b[39m\u001b[38;5;241m.\u001b[39m\u001b[38;5;18m__class__\u001b[39m\u001b[38;5;241m.\u001b[39m\u001b[38;5;18m__name__\u001b[39m\u001b[38;5;132;01m}\u001b[39;00m\u001b[38;5;124m estimator \u001b[39m\u001b[38;5;124m\"\u001b[39m\n\u001b[1;32m    613\u001b[0m             \u001b[38;5;124m\"\u001b[39m\u001b[38;5;124mrequires y to be passed, but the target y is None.\u001b[39m\u001b[38;5;124m\"\u001b[39m\n\u001b[1;32m    614\u001b[0m         )\n",
      "File \u001b[0;32m/Library/Frameworks/Python.framework/Versions/3.11/lib/python3.11/site-packages/sklearn/base.py:535\u001b[0m, in \u001b[0;36mBaseEstimator._check_feature_names\u001b[0;34m(self, X, reset)\u001b[0m\n\u001b[1;32m    530\u001b[0m \u001b[38;5;28;01mif\u001b[39;00m \u001b[38;5;129;01mnot\u001b[39;00m missing_names \u001b[38;5;129;01mand\u001b[39;00m \u001b[38;5;129;01mnot\u001b[39;00m unexpected_names:\n\u001b[1;32m    531\u001b[0m     message \u001b[38;5;241m+\u001b[39m\u001b[38;5;241m=\u001b[39m (\n\u001b[1;32m    532\u001b[0m         \u001b[38;5;124m\"\u001b[39m\u001b[38;5;124mFeature names must be in the same order as they were in fit.\u001b[39m\u001b[38;5;130;01m\\n\u001b[39;00m\u001b[38;5;124m\"\u001b[39m\n\u001b[1;32m    533\u001b[0m     )\n\u001b[0;32m--> 535\u001b[0m \u001b[38;5;28;01mraise\u001b[39;00m \u001b[38;5;167;01mValueError\u001b[39;00m(message)\n",
      "\u001b[0;31mValueError\u001b[0m: The feature names should match those that were passed during fit.\nFeature names unseen at fit time:\n- duration_ms\n- explicit\n- loudness\n- mode\n- speechiness\n"
     ]
    }
   ],
   "source": [
    "# Transform using the trained scaler\n",
    "spotify_df_test_scaled = scaler.transform(spotify_df_test_aligned)\n",
    "\n",
    "# Predict clusters using the trained K-Means model\n",
    "spotify_df_test['cluster'] = kmeans.predict(spotify_df_test_scaled)\n"
   ]
  },
  {
   "cell_type": "code",
   "execution_count": 61,
   "metadata": {},
   "outputs": [
    {
     "ename": "KeyError",
     "evalue": "'cluster'",
     "output_type": "error",
     "traceback": [
      "\u001b[0;31m---------------------------------------------------------------------------\u001b[0m",
      "\u001b[0;31mKeyError\u001b[0m                                  Traceback (most recent call last)",
      "File \u001b[0;32m/Library/Frameworks/Python.framework/Versions/3.11/lib/python3.11/site-packages/pandas/core/indexes/base.py:3802\u001b[0m, in \u001b[0;36mIndex.get_loc\u001b[0;34m(self, key)\u001b[0m\n\u001b[1;32m   3801\u001b[0m \u001b[38;5;28;01mtry\u001b[39;00m:\n\u001b[0;32m-> 3802\u001b[0m     \u001b[38;5;28;01mreturn\u001b[39;00m \u001b[38;5;28;43mself\u001b[39;49m\u001b[38;5;241;43m.\u001b[39;49m\u001b[43m_engine\u001b[49m\u001b[38;5;241;43m.\u001b[39;49m\u001b[43mget_loc\u001b[49m\u001b[43m(\u001b[49m\u001b[43mcasted_key\u001b[49m\u001b[43m)\u001b[49m\n\u001b[1;32m   3803\u001b[0m \u001b[38;5;28;01mexcept\u001b[39;00m \u001b[38;5;167;01mKeyError\u001b[39;00m \u001b[38;5;28;01mas\u001b[39;00m err:\n",
      "File \u001b[0;32mindex.pyx:153\u001b[0m, in \u001b[0;36mpandas._libs.index.IndexEngine.get_loc\u001b[0;34m()\u001b[0m\n",
      "File \u001b[0;32mindex.pyx:182\u001b[0m, in \u001b[0;36mpandas._libs.index.IndexEngine.get_loc\u001b[0;34m()\u001b[0m\n",
      "File \u001b[0;32mpandas/_libs/hashtable_class_helper.pxi:7081\u001b[0m, in \u001b[0;36mpandas._libs.hashtable.PyObjectHashTable.get_item\u001b[0;34m()\u001b[0m\n",
      "File \u001b[0;32mpandas/_libs/hashtable_class_helper.pxi:7089\u001b[0m, in \u001b[0;36mpandas._libs.hashtable.PyObjectHashTable.get_item\u001b[0;34m()\u001b[0m\n",
      "\u001b[0;31mKeyError\u001b[0m: 'cluster'",
      "\nThe above exception was the direct cause of the following exception:\n",
      "\u001b[0;31mKeyError\u001b[0m                                  Traceback (most recent call last)",
      "Cell \u001b[0;32mIn[61], line 7\u001b[0m\n\u001b[1;32m      5\u001b[0m \u001b[38;5;66;03m# Filter the dataset to get the selected songs\u001b[39;00m\n\u001b[1;32m      6\u001b[0m selected_songs \u001b[38;5;241m=\u001b[39m spotify_df_test[spotify_df_test[\u001b[38;5;124m'\u001b[39m\u001b[38;5;124mtrack_id\u001b[39m\u001b[38;5;124m'\u001b[39m]\u001b[38;5;241m.\u001b[39misin(selected_song_ids)]\n\u001b[0;32m----> 7\u001b[0m selected_clusters \u001b[38;5;241m=\u001b[39m \u001b[43mselected_songs\u001b[49m\u001b[43m[\u001b[49m\u001b[38;5;124;43m'\u001b[39;49m\u001b[38;5;124;43mcluster\u001b[39;49m\u001b[38;5;124;43m'\u001b[39;49m\u001b[43m]\u001b[49m\u001b[38;5;241m.\u001b[39munique()\n",
      "File \u001b[0;32m/Library/Frameworks/Python.framework/Versions/3.11/lib/python3.11/site-packages/pandas/core/frame.py:4090\u001b[0m, in \u001b[0;36mDataFrame.__getitem__\u001b[0;34m(self, key)\u001b[0m\n\u001b[1;32m   4088\u001b[0m \u001b[38;5;28;01mif\u001b[39;00m \u001b[38;5;28mself\u001b[39m\u001b[38;5;241m.\u001b[39mcolumns\u001b[38;5;241m.\u001b[39mnlevels \u001b[38;5;241m>\u001b[39m \u001b[38;5;241m1\u001b[39m:\n\u001b[1;32m   4089\u001b[0m     \u001b[38;5;28;01mreturn\u001b[39;00m \u001b[38;5;28mself\u001b[39m\u001b[38;5;241m.\u001b[39m_getitem_multilevel(key)\n\u001b[0;32m-> 4090\u001b[0m indexer \u001b[38;5;241m=\u001b[39m \u001b[38;5;28;43mself\u001b[39;49m\u001b[38;5;241;43m.\u001b[39;49m\u001b[43mcolumns\u001b[49m\u001b[38;5;241;43m.\u001b[39;49m\u001b[43mget_loc\u001b[49m\u001b[43m(\u001b[49m\u001b[43mkey\u001b[49m\u001b[43m)\u001b[49m\n\u001b[1;32m   4091\u001b[0m \u001b[38;5;28;01mif\u001b[39;00m is_integer(indexer):\n\u001b[1;32m   4092\u001b[0m     indexer \u001b[38;5;241m=\u001b[39m [indexer]\n",
      "File \u001b[0;32m/Library/Frameworks/Python.framework/Versions/3.11/lib/python3.11/site-packages/pandas/core/indexes/base.py:3809\u001b[0m, in \u001b[0;36mIndex.get_loc\u001b[0;34m(self, key)\u001b[0m\n\u001b[1;32m   3804\u001b[0m     \u001b[38;5;28;01mif\u001b[39;00m \u001b[38;5;28misinstance\u001b[39m(casted_key, \u001b[38;5;28mslice\u001b[39m) \u001b[38;5;129;01mor\u001b[39;00m (\n\u001b[1;32m   3805\u001b[0m         \u001b[38;5;28misinstance\u001b[39m(casted_key, abc\u001b[38;5;241m.\u001b[39mIterable)\n\u001b[1;32m   3806\u001b[0m         \u001b[38;5;129;01mand\u001b[39;00m \u001b[38;5;28many\u001b[39m(\u001b[38;5;28misinstance\u001b[39m(x, \u001b[38;5;28mslice\u001b[39m) \u001b[38;5;28;01mfor\u001b[39;00m x \u001b[38;5;129;01min\u001b[39;00m casted_key)\n\u001b[1;32m   3807\u001b[0m     ):\n\u001b[1;32m   3808\u001b[0m         \u001b[38;5;28;01mraise\u001b[39;00m InvalidIndexError(key)\n\u001b[0;32m-> 3809\u001b[0m     \u001b[38;5;28;01mraise\u001b[39;00m \u001b[38;5;167;01mKeyError\u001b[39;00m(key) \u001b[38;5;28;01mfrom\u001b[39;00m \u001b[38;5;21;01merr\u001b[39;00m\n\u001b[1;32m   3810\u001b[0m \u001b[38;5;28;01mexcept\u001b[39;00m \u001b[38;5;167;01mTypeError\u001b[39;00m:\n\u001b[1;32m   3811\u001b[0m     \u001b[38;5;66;03m# If we have a listlike key, _check_indexing_error will raise\u001b[39;00m\n\u001b[1;32m   3812\u001b[0m     \u001b[38;5;66;03m#  InvalidIndexError. Otherwise we fall through and re-raise\u001b[39;00m\n\u001b[1;32m   3813\u001b[0m     \u001b[38;5;66;03m#  the TypeError.\u001b[39;00m\n\u001b[1;32m   3814\u001b[0m     \u001b[38;5;28mself\u001b[39m\u001b[38;5;241m.\u001b[39m_check_indexing_error(key)\n",
      "\u001b[0;31mKeyError\u001b[0m: 'cluster'"
     ]
    }
   ],
   "source": [
    "# Specify 10 songs by their indices or IDs\n",
    "selected_song_ids = ['6Im9k8u9iIzKMrmV7BWtlF', '78qd8dvwea0Gosb6Fe6j3k', '44ONERBHALxftQNWq6dmyd', '0z8hI3OPS8ADPWtoCjjLl6', '3zkWCteF82vJwv0hRLba76', \n",
    "                     '08AVok9laWpSSpX42guJ2K', '6K9UYBSvkOadWYO5nUrfVP', '2m6Ko3CY1qXNNja8AlugNc', '0Y9PqGjKgupH5fKbrgDQUr', '3bCp61o3h46Yvr0vgMJlaL']\n",
    "\n",
    "# Filter the dataset to get the selected songs\n",
    "selected_songs = spotify_df_test[spotify_df_test['track_id'].isin(selected_song_ids)]\n",
    "selected_clusters = selected_songs['cluster'].unique()"
   ]
  },
  {
   "cell_type": "code",
   "execution_count": null,
   "metadata": {},
   "outputs": [],
   "source": [
    "# Find similar songs in the same clusters\n",
    "recommended_songs = spotify_df_test[spotify_df_test['cluster'].isin(selected_clusters)].copy()\n",
    "\n",
    "# Calculate distances to centroids for ranking\n",
    "from sklearn.metrics.pairwise import euclidean_distances\n",
    "\n",
    "recommended_songs['distance_to_centroid'] = recommended_songs.apply(\n",
    "    lambda row: euclidean_distances([row[test_features]], [kmeans.cluster_centers_[row['cluster']]])[0][0],\n",
    "    axis=1\n",
    ")\n",
    "\n",
    "# Exclude the selected songs from recommendations\n",
    "recommended_songs = recommended_songs[~recommended_songs.index.isin(selected_songs.index)]\n",
    "recommended_songs = recommended_songs.sort_values('distance_to_centroid').head(20)\n",
    "\n",
    "# Output the recommended playlist\n",
    "playlist = recommended_songs[['track_name', 'artists', 'album_name', 'cluster', 'distance_to_centroid']]\n",
    "print(playlist)"
   ]
  }
 ],
 "metadata": {
  "kernelspec": {
   "display_name": "Python 3",
   "language": "python",
   "name": "python3"
  },
  "language_info": {
   "codemirror_mode": {
    "name": "ipython",
    "version": 3
   },
   "file_extension": ".py",
   "mimetype": "text/x-python",
   "name": "python",
   "nbconvert_exporter": "python",
   "pygments_lexer": "ipython3",
   "version": "3.11.8"
  }
 },
 "nbformat": 4,
 "nbformat_minor": 2
}
